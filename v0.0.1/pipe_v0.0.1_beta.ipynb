{
 "cells": [
  {
   "cell_type": "markdown",
   "metadata": {
    "collapsed": true,
    "pycharm": {
     "name": "#%% md\n"
    }
   },
   "source": [
    "# 整体PipeLine"
   ]
  },
  {
   "cell_type": "markdown",
   "metadata": {
    "collapsed": false,
    "pycharm": {
     "name": "#%% md\n"
    }
   },
   "source": [
    "## 1. RAG存储与索引构建"
   ]
  },
  {
   "cell_type": "markdown",
   "metadata": {
    "collapsed": false,
    "pycharm": {
     "name": "#%% md\n"
    }
   },
   "source": [
    "### 1.1 存储"
   ]
  },
  {
   "cell_type": "code",
   "execution_count": 1,
   "metadata": {
    "collapsed": false,
    "pycharm": {
     "name": "#%%\n"
    }
   },
   "outputs": [
    {
     "name": "stdout",
     "output_type": "stream",
     "text": [
      "['{\"spu_id\": 640, \"name\": \"足银9999描金海棠花银手镯开口实心纯银手镯古风新中式520礼物\", \"keyword\": \"手镯、闭口手镯、足银9999\", \"introduction\": \"新中式风格，送女朋友\", \"description\": \"<p>手镯手镯手镯</p>\", \"category_id\": 84, \"brand_id\": 4, \"pic_url\": \"https://yinshi-1309445959.cos.ap-beijing.myqcloud.com/yinshi-1309445959/151d5ce2e46d364effcebd407e7eb95075e2d289516f722e7b9b3946cfef53d8.png\", \"slider_pic_urls\": \"[\\\\\"https://yinshi-1309445959.cos.ap-beijing.myqcloud.com/yinshi-1309445959/8e9d9e96520f21e25b4ac730bc5e6c62e1d36f0e26c31a87685c18bce58c4498.jpg\\\\\",\\\\\"https://yinshi-1309445959.cos.ap-beijing.myqcloud.com/yinshi-1309445959/06e8b168cab5b48336ca29253c8e6cecad5e0ad8baacb2a98a9a5365136b9804.jpg\\\\\",\\\\\"https://yinshi-1309445959.cos.ap-beijing.myqcloud.com/yinshi-1309445959/3dbf47a546bc3665953519a2611c17daf2f3192ab3b16fd62ace20b993521c42.jpg\\\\\",\\\\\"https://yinshi-1309445959.cos.ap-beijing.myqcloud.com/yinshi-1309445959/d8656c5219a89a57d1d88e2838d7a48aa451f7eb993acb29ffcc79a5b377ef6c.jpg\\\\\",\\\\\"https://yinshi-1309445959.cos.ap-beijing.myqcloud.com/yinshi-1309445959/d37c09daf32cdb9ddd0f9d4673f415b6440bb5e46f9c15065b84cc97bc9ad035.jpg\\\\\"]\", \"sort\": 0, \"status\": 1, \"spec_type\": 0, \"price\": 49600, \"market_price\": 20000, \"cost_price\": 20000, \"stock\": 10, \"delivery_types\": \"2\", \"delivery_template_id\": null, \"give_integral\": 0, \"sub_commission_type\": 0, \"sales_count\": 0, \"virtual_sales_count\": 0, \"browse_count\": 0, \"create_time\": \"2024-06-27 18:25:29\", \"update_time\": \"2024-06-27 20:01:40\", \"creator\": \"1\", \"updater\": \"1\", \"deleted\": 0, \"tenant_id\": 1, \"sku_properties\": \"[{\\\\\"price\\\\\": 49600, \\\\\"stock\\\\\": 10, \\\\\"weight\\\\\": 30.0, \\\\\"properties\\\\\": \\\\\"[{\\\\\\\\\\\\\"propertyId\\\\\\\\\\\\\":0,\\\\\\\\\\\\\"propertyName\\\\\\\\\\\\\":\\\\\\\\\\\\\"默认\\\\\\\\\\\\\",\\\\\\\\\\\\\"valueId\\\\\\\\\\\\\":0,\\\\\\\\\\\\\"valueName\\\\\\\\\\\\\":\\\\\\\\\\\\\"默认\\\\\\\\\\\\\"}]\\\\\", \\\\\"propertyId\\\\\": 30, \\\\\"propertyName\\\\\": \\\\\"SKU属性\\\\\"}]\"}', '{\"spu_id\": 641, \"name\": \"足银9999吉言盘缠银手镯实心闭口精致气质手镯\", \"keyword\": \"盘缠手镯、银手镯\", \"introduction\": \"闭口手镯、腰缠万贯、万贯手镯\", \"description\": \"<p>商品详情</p>\", \"category_id\": 84, \"brand_id\": 4, \"pic_url\": \"https://yinshi-1309445959.cos.ap-beijing.myqcloud.com/yinshi-1309445959/e4c414bbc730e7af2dec98efa37d27a2e2b695d81504d0c98ab40f0879113785.jpg\", \"slider_pic_urls\": \"[\\\\\"https://yinshi-1309445959.cos.ap-beijing.myqcloud.com/yinshi-1309445959/570e79f72becb21c9e35a860b323860ddc414cb7490e9c2fc1b57932f5092f60.jpg\\\\\",\\\\\"https://yinshi-1309445959.cos.ap-beijing.myqcloud.com/yinshi-1309445959/e4c414bbc730e7af2dec98efa37d27a2e2b695d81504d0c98ab40f0879113785.jpg\\\\\",\\\\\"https://yinshi-1309445959.cos.ap-beijing.myqcloud.com/yinshi-1309445959/cdbbfd72bac5ea221066b2f759a5cada1c82275755c67a567c8ed122a360e713.jpg\\\\\",\\\\\"https://yinshi-1309445959.cos.ap-beijing.myqcloud.com/yinshi-1309445959/e64e6d4707e6903fd160a678196c6cd82eedf9ed5724d2543884a09003443b27.jpg\\\\\",\\\\\"https://yinshi-1309445959.cos.ap-beijing.myqcloud.com/yinshi-1309445959/fbeadb0b731b4891cf9767b50c882721964ba17ebfb86e2d201de7d04ae1ccfe.jpg\\\\\"]\", \"sort\": 0, \"status\": 1, \"spec_type\": 1, \"price\": 31000, \"market_price\": 20000, \"cost_price\": 2000, \"stock\": 131, \"delivery_types\": \"2\", \"delivery_template_id\": null, \"give_integral\": 0, \"sub_commission_type\": 0, \"sales_count\": 0, \"virtual_sales_count\": 0, \"browse_count\": 0, \"create_time\": \"2024-06-27 18:49:36\", \"update_time\": \"2024-06-27 18:49:36\", \"creator\": \"1\", \"updater\": \"1\", \"deleted\": 0, \"tenant_id\": 1, \"sku_properties\": \"[{\\\\\"price\\\\\": 31000, \\\\\"stock\\\\\": 10, \\\\\"weight\\\\\": 28.0, \\\\\"properties\\\\\": \\\\\"[{\\\\\\\\\\\\\"propertyId\\\\\\\\\\\\\":14,\\\\\\\\\\\\\"propertyName\\\\\\\\\\\\\":\\\\\\\\\\\\\"圈口\\\\\\\\\\\\\",\\\\\\\\\\\\\"valueId\\\\\\\\\\\\\":26,\\\\\\\\\\\\\"valueName\\\\\\\\\\\\\":\\\\\\\\\\\\\"54圈口28g\\\\\\\\\\\\\"}]\\\\\", \\\\\"propertyId\\\\\": 31, \\\\\"propertyName\\\\\": \\\\\"SKU属性\\\\\"}, {\\\\\"price\\\\\": 34000, \\\\\"stock\\\\\": 101, \\\\\"weight\\\\\": 30.0, \\\\\"properties\\\\\": \\\\\"[{\\\\\\\\\\\\\"propertyId\\\\\\\\\\\\\":14,\\\\\\\\\\\\\"propertyName\\\\\\\\\\\\\":\\\\\\\\\\\\\"圈口\\\\\\\\\\\\\",\\\\\\\\\\\\\"valueId\\\\\\\\\\\\\":29,\\\\\\\\\\\\\"valueName\\\\\\\\\\\\\":\\\\\\\\\\\\\"60圈口30g\\\\\\\\\\\\\"}]\\\\\", \\\\\"propertyId\\\\\": 34, \\\\\"propertyName\\\\\": \\\\\"SKU属性\\\\\"}, {\\\\\"price\\\\\": 33000, \\\\\"stock\\\\\": 10, \\\\\"weight\\\\\": 29.0, \\\\\"properties\\\\\": \\\\\"[{\\\\\\\\\\\\\"propertyId\\\\\\\\\\\\\":14,\\\\\\\\\\\\\"propertyName\\\\\\\\\\\\\":\\\\\\\\\\\\\"圈口\\\\\\\\\\\\\",\\\\\\\\\\\\\"valueId\\\\\\\\\\\\\":28,\\\\\\\\\\\\\"valueName\\\\\\\\\\\\\":\\\\\\\\\\\\\"58圈口29g\\\\\\\\\\\\\"}]\\\\\", \\\\\"propertyId\\\\\": 33, \\\\\"propertyName\\\\\": \\\\\"SKU属性\\\\\"}, {\\\\\"price\\\\\": 32000, \\\\\"stock\\\\\": 10, \\\\\"weight\\\\\": 29.0, \\\\\"properties\\\\\": \\\\\"[{\\\\\\\\\\\\\"propertyId\\\\\\\\\\\\\":14,\\\\\\\\\\\\\"propertyName\\\\\\\\\\\\\":\\\\\\\\\\\\\"圈口\\\\\\\\\\\\\",\\\\\\\\\\\\\"valueId\\\\\\\\\\\\\":27,\\\\\\\\\\\\\"valueName\\\\\\\\\\\\\":\\\\\\\\\\\\\"56圈口29g\\\\\\\\\\\\\"}]\\\\\", \\\\\"propertyId\\\\\": 32, \\\\\"propertyName\\\\\": \\\\\"SKU属性\\\\\"}]\"}', '{\"spu_id\": 642, \"name\": \"9999足银海棠花纯银手镯古法珐琅彩实心精致气质高级手镯520礼物\", \"keyword\": \"海棠花、古法、银手镯\", \"introduction\": \"古法、海棠花\", \"description\": \"<p>商品详情</p>\", \"category_id\": 84, \"brand_id\": 4, \"pic_url\": \"https://yinshi-1309445959.cos.ap-beijing.myqcloud.com/yinshi-1309445959/c2a810295bee469ccb0e6d2ba4de31c0e48e529a7371408141a75523261e04d1.jpg\", \"slider_pic_urls\": \"[\\\\\"https://yinshi-1309445959.cos.ap-beijing.myqcloud.com/yinshi-1309445959/c2a810295bee469ccb0e6d2ba4de31c0e48e529a7371408141a75523261e04d1.jpg\\\\\",\\\\\"https://yinshi-1309445959.cos.ap-beijing.myqcloud.com/yinshi-1309445959/2ad1a53c3c1015943d4ca67c8c5a879bc8d6b75f6582c61aa3e652ed51089c32.jpg\\\\\",\\\\\"https://yinshi-1309445959.cos.ap-beijing.myqcloud.com/yinshi-1309445959/ddf01a2b64d04908d0b28ae69084b52b70f693bae7d07ead66264115207285ac.jpg\\\\\",\\\\\"https://yinshi-1309445959.cos.ap-beijing.myqcloud.com/yinshi-1309445959/0c8ca02964aa838287135f1eb697ff49c0c8d96850b039f2f376051acbc2426f.jpg\\\\\",\\\\\"https://yinshi-1309445959.cos.ap-beijing.myqcloud.com/yinshi-1309445959/9210592b46a8be3fa56c647b3f2f2d972efd21e82558e70ac95a6379641e2bbc.jpg\\\\\"]\", \"sort\": 0, \"status\": 1, \"spec_type\": 0, \"price\": 39700, \"market_price\": 39600, \"cost_price\": 20000, \"stock\": 10, \"delivery_types\": \"2\", \"delivery_template_id\": null, \"give_integral\": 0, \"sub_commission_type\": 0, \"sales_count\": 0, \"virtual_sales_count\": 0, \"browse_count\": 0, \"create_time\": \"2024-06-27 18:57:08\", \"update_time\": \"2024-06-27 18:57:08\", \"creator\": \"1\", \"updater\": \"1\", \"deleted\": 0, \"tenant_id\": 1, \"sku_properties\": \"[{\\\\\"price\\\\\": 39700, \\\\\"stock\\\\\": 10, \\\\\"weight\\\\\": 30.0, \\\\\"properties\\\\\": \\\\\"[{\\\\\\\\\\\\\"propertyId\\\\\\\\\\\\\":0,\\\\\\\\\\\\\"propertyName\\\\\\\\\\\\\":\\\\\\\\\\\\\"默认\\\\\\\\\\\\\",\\\\\\\\\\\\\"valueId\\\\\\\\\\\\\":0,\\\\\\\\\\\\\"valueName\\\\\\\\\\\\\":\\\\\\\\\\\\\"默认\\\\\\\\\\\\\"}]\\\\\", \\\\\"propertyId\\\\\": 35, \\\\\"propertyName\\\\\": \\\\\"SKU属性\\\\\"}]\"}', '{\"spu_id\": 643, \"name\": \"999足银吉言描金手镯珐琅彩开口实心纯银手镯气质高级新中式520\", \"keyword\": \"描金、吉言、珐琅彩\", \"introduction\": \"描金手镯\", \"description\": \"<p>商品详情</p><p><br></p>\", \"category_id\": 84, \"brand_id\": 4, \"pic_url\": \"https://yinshi-1309445959.cos.ap-beijing.myqcloud.com/yinshi-1309445959/65ef41004dbb01229b88cc57076438dc92b6a9df991ca704d69660c4cded020d.jpg\", \"slider_pic_urls\": \"[\\\\\"https://yinshi-1309445959.cos.ap-beijing.myqcloud.com/yinshi-1309445959/65ef41004dbb01229b88cc57076438dc92b6a9df991ca704d69660c4cded020d.jpg\\\\\",\\\\\"https://yinshi-1309445959.cos.ap-beijing.myqcloud.com/yinshi-1309445959/aca70e750a7bf29c95ae2061e1bf8dff5de277bdf703e66ccde35136d2c2122d.jpg\\\\\",\\\\\"https://yinshi-1309445959.cos.ap-beijing.myqcloud.com/yinshi-1309445959/3f72db8a179c86731808424bd82bdc4859e49dde80fc9147e367299496b302b3.jpg\\\\\",\\\\\"https://yinshi-1309445959.cos.ap-beijing.myqcloud.com/yinshi-1309445959/ac9e1c7f979791142f0000ecb6b0067a695c71adbd979bda464cd07b5ce38039.jpg\\\\\"]\", \"sort\": 0, \"status\": 1, \"spec_type\": 0, \"price\": 39900, \"market_price\": 24000, \"cost_price\": 25000, \"stock\": 10, \"delivery_types\": \"2\", \"delivery_template_id\": null, \"give_integral\": 0, \"sub_commission_type\": 0, \"sales_count\": 0, \"virtual_sales_count\": 0, \"browse_count\": 0, \"create_time\": \"2024-06-27 19:01:45\", \"update_time\": \"2024-06-27 19:01:45\", \"creator\": \"1\", \"updater\": \"1\", \"deleted\": 0, \"tenant_id\": 1, \"sku_properties\": \"[{\\\\\"price\\\\\": 39900, \\\\\"stock\\\\\": 10, \\\\\"weight\\\\\": 30.0, \\\\\"properties\\\\\": \\\\\"[{\\\\\\\\\\\\\"propertyId\\\\\\\\\\\\\":0,\\\\\\\\\\\\\"propertyName\\\\\\\\\\\\\":\\\\\\\\\\\\\"默认\\\\\\\\\\\\\",\\\\\\\\\\\\\"valueId\\\\\\\\\\\\\":0,\\\\\\\\\\\\\"valueName\\\\\\\\\\\\\":\\\\\\\\\\\\\"默认\\\\\\\\\\\\\"}]\\\\\", \\\\\"propertyId\\\\\": 36, \\\\\"propertyName\\\\\": \\\\\"SKU属性\\\\\"}]\"}', '{\"spu_id\": 644, \"name\": \"足银999.9珐琅彩花丝花蝶实心手镯手链精致气质开口蝴蝶·手腕18cm以下均可戴\", \"keyword\": \"珐琅彩、手链、蝴蝶\", \"introduction\": \"珐琅彩手链精致\", \"description\": \"<p>详情</p>\", \"category_id\": 85, \"brand_id\": 4, \"pic_url\": \"https://yinshi-1309445959.cos.ap-beijing.myqcloud.com/yinshi-1309445959/40232e3da20142a7c8dc6de765ffd91ae4990b793b35acd0d649763721029a10.jpg\", \"slider_pic_urls\": \"[\\\\\"https://yinshi-1309445959.cos.ap-beijing.myqcloud.com/yinshi-1309445959/40232e3da20142a7c8dc6de765ffd91ae4990b793b35acd0d649763721029a10.jpg\\\\\",\\\\\"https://yinshi-1309445959.cos.ap-beijing.myqcloud.com/yinshi-1309445959/566f303652236a57b79dd46d430569a1e96a7e5d49944198b31ae29aa21d5970.jpg\\\\\",\\\\\"https://yinshi-1309445959.cos.ap-beijing.myqcloud.com/yinshi-1309445959/554c4e5f72280bb0a485b217e018ba5b5216804905eac798c627be584b667293.jpg\\\\\",\\\\\"https://yinshi-1309445959.cos.ap-beijing.myqcloud.com/yinshi-1309445959/96f224dab0918e2557e8ba5a0045aff4673d4cb203dcd883c738aabe16729f87.jpg\\\\\"]\", \"sort\": 0, \"status\": 1, \"spec_type\": 0, \"price\": 32800, \"market_price\": 20000, \"cost_price\": 10000, \"stock\": 100, \"delivery_types\": \"2\", \"delivery_template_id\": null, \"give_integral\": 0, \"sub_commission_type\": 1, \"sales_count\": 0, \"virtual_sales_count\": 0, \"browse_count\": 0, \"create_time\": \"2024-06-27 19:49:38\", \"update_time\": \"2024-06-27 19:49:38\", \"creator\": \"1\", \"updater\": \"1\", \"deleted\": 0, \"tenant_id\": 1, \"sku_properties\": \"[{\\\\\"price\\\\\": 32800, \\\\\"stock\\\\\": 100, \\\\\"weight\\\\\": 0.0, \\\\\"properties\\\\\": \\\\\"[{\\\\\\\\\\\\\"propertyId\\\\\\\\\\\\\":0,\\\\\\\\\\\\\"propertyName\\\\\\\\\\\\\":\\\\\\\\\\\\\"默认\\\\\\\\\\\\\",\\\\\\\\\\\\\"valueId\\\\\\\\\\\\\":0,\\\\\\\\\\\\\"valueName\\\\\\\\\\\\\":\\\\\\\\\\\\\"默认\\\\\\\\\\\\\"}]\\\\\", \\\\\"propertyId\\\\\": 37, \\\\\"propertyName\\\\\": \\\\\"SKU属性\\\\\"}]\"}', '{\"spu_id\": 645, \"name\": \"足银9999描金樱花实心纯银手镯闭口小众精致气质时尚款\", \"keyword\": \"描金、樱花、小众\", \"introduction\": \"描金、樱花、小众手镯\", \"description\": \"<p>详情</p>\", \"category_id\": 84, \"brand_id\": 4, \"pic_url\": \"https://yinshi-1309445959.cos.ap-beijing.myqcloud.com/yinshi-1309445959/3a1ca1a2c5b8f5d91627a8d555bb642ef1b1e5d2749a121e5f2f9b8860fb551f.jpg\", \"slider_pic_urls\": \"[\\\\\"https://yinshi-1309445959.cos.ap-beijing.myqcloud.com/yinshi-1309445959/75023a411ee56cac7a1f04c5493272394f0bdf4652360eb4a3a6138ba0b47990.jpg\\\\\",\\\\\"https://yinshi-1309445959.cos.ap-beijing.myqcloud.com/yinshi-1309445959/309566b0dad026794c65165ecbb983d49cab3ec0a2bb9eded36edc55cbca5def.jpg\\\\\",\\\\\"https://yinshi-1309445959.cos.ap-beijing.myqcloud.com/yinshi-1309445959/ac10e50cc89f943c8890b0c9031dc8cc74ba0b7cefd924a19b9cccdc1ccb1515.jpg\\\\\",\\\\\"https://yinshi-1309445959.cos.ap-beijing.myqcloud.com/yinshi-1309445959/0db5e782766e69186c7f294f6a90462934ecfbb4aa4c5c2106a07c67cb5a679e.jpg\\\\\"]\", \"sort\": 0, \"status\": 1, \"spec_type\": 0, \"price\": 36900, \"market_price\": 10000, \"cost_price\": 20000, \"stock\": 134, \"delivery_types\": \"2\", \"delivery_template_id\": null, \"give_integral\": 0, \"sub_commission_type\": 0, \"sales_count\": 0, \"virtual_sales_count\": 0, \"browse_count\": 0, \"create_time\": \"2024-06-27 19:53:08\", \"update_time\": \"2024-06-27 19:53:08\", \"creator\": \"1\", \"updater\": \"1\", \"deleted\": 0, \"tenant_id\": 1, \"sku_properties\": \"[{\\\\\"price\\\\\": 36900, \\\\\"stock\\\\\": 134, \\\\\"weight\\\\\": 0.0, \\\\\"properties\\\\\": \\\\\"[{\\\\\\\\\\\\\"propertyId\\\\\\\\\\\\\":0,\\\\\\\\\\\\\"propertyName\\\\\\\\\\\\\":\\\\\\\\\\\\\"默认\\\\\\\\\\\\\",\\\\\\\\\\\\\"valueId\\\\\\\\\\\\\":0,\\\\\\\\\\\\\"valueName\\\\\\\\\\\\\":\\\\\\\\\\\\\"默认\\\\\\\\\\\\\"}]\\\\\", \\\\\"propertyId\\\\\": 38, \\\\\"propertyName\\\\\": \\\\\"SKU属性\\\\\"}]\"}', '{\"spu_id\": 646, \"name\": \"足银999.9描金青鸾凤银手镯开口珐琅彩精致气质复古大气镯子\", \"keyword\": \"描金、青鸾凤、珐琅彩\", \"introduction\": \"描金、青鸾凤、珐琅彩\", \"description\": \"<p>详情</p>\", \"category_id\": 84, \"brand_id\": 4, \"pic_url\": \"https://yinshi-1309445959.cos.ap-beijing.myqcloud.com/yinshi-1309445959/8625ae0c7d0c8ebe38781b4aa843f56ee1b1f713868e5435d8a700744e63f644.jpg\", \"slider_pic_urls\": \"[\\\\\"https://yinshi-1309445959.cos.ap-beijing.myqcloud.com/yinshi-1309445959/8625ae0c7d0c8ebe38781b4aa843f56ee1b1f713868e5435d8a700744e63f644.jpg\\\\\",\\\\\"https://yinshi-1309445959.cos.ap-beijing.myqcloud.com/yinshi-1309445959/cc1ebaa8273af42484eb6680e26166f3de2eb1ab31d154c9383fdc17e3b32c56.jpg\\\\\",\\\\\"https://yinshi-1309445959.cos.ap-beijing.myqcloud.com/yinshi-1309445959/a7e3c44a0266c84efb3fba2691b1cca9500295e54d375fb6371e67efd177b629.jpg\\\\\"]\", \"sort\": 0, \"status\": 1, \"spec_type\": 0, \"price\": 34700, \"market_price\": 24800, \"cost_price\": 56600, \"stock\": 752, \"delivery_types\": \"2\", \"delivery_template_id\": null, \"give_integral\": 0, \"sub_commission_type\": 0, \"sales_count\": 0, \"virtual_sales_count\": 0, \"browse_count\": 0, \"create_time\": \"2024-06-27 19:59:45\", \"update_time\": \"2024-06-27 19:59:45\", \"creator\": \"1\", \"updater\": \"1\", \"deleted\": 0, \"tenant_id\": 1, \"sku_properties\": \"[{\\\\\"price\\\\\": 34700, \\\\\"stock\\\\\": 752, \\\\\"weight\\\\\": 30.0, \\\\\"properties\\\\\": \\\\\"[{\\\\\\\\\\\\\"propertyId\\\\\\\\\\\\\":0,\\\\\\\\\\\\\"propertyName\\\\\\\\\\\\\":\\\\\\\\\\\\\"默认\\\\\\\\\\\\\",\\\\\\\\\\\\\"valueId\\\\\\\\\\\\\":0,\\\\\\\\\\\\\"valueName\\\\\\\\\\\\\":\\\\\\\\\\\\\"默认\\\\\\\\\\\\\"}]\\\\\", \\\\\"propertyId\\\\\": 39, \\\\\"propertyName\\\\\": \\\\\"SKU属性\\\\\"}]\"}', '{\"spu_id\": 647, \"name\": \"足银999.9珐琅彩蝴蝶纯银手镯小众闭口精致款\", \"keyword\": \"珐琅彩、蝴蝶、手镯、小众\", \"introduction\": \"珐琅彩、蝴蝶、手镯、小众\", \"description\": \"<p>商品详情</p>\", \"category_id\": 84, \"brand_id\": 4, \"pic_url\": \"https://yinshi-1309445959.cos.ap-beijing.myqcloud.com/yinshi-1309445959/45c6bbc1cb59f95501f9e642c436bb067ff7a9c599be2f26bc3685e7f32de311.jpg\", \"slider_pic_urls\": \"[\\\\\"https://yinshi-1309445959.cos.ap-beijing.myqcloud.com/yinshi-1309445959/45c6bbc1cb59f95501f9e642c436bb067ff7a9c599be2f26bc3685e7f32de311.jpg\\\\\",\\\\\"https://yinshi-1309445959.cos.ap-beijing.myqcloud.com/yinshi-1309445959/83148cecba92687fe2b1becddb2ed61016773900b14450edf39b9c17dc50f862.jpg\\\\\",\\\\\"https://yinshi-1309445959.cos.ap-beijing.myqcloud.com/yinshi-1309445959/301ee182189f286a1bc0d8740ba41938c74e9f4bb4260e041d666d1b5ea61bcc.jpg\\\\\",\\\\\"https://yinshi-1309445959.cos.ap-beijing.myqcloud.com/yinshi-1309445959/aedc43afd3a8116ba6c847b551ce43ad654eccde9b92cffb8723d31505fba5dc.jpg\\\\\"]\", \"sort\": 0, \"status\": 1, \"spec_type\": 1, \"price\": 42900, \"market_price\": 30000, \"cost_price\": 10000, \"stock\": 107, \"delivery_types\": \"2\", \"delivery_template_id\": null, \"give_integral\": 0, \"sub_commission_type\": 0, \"sales_count\": 0, \"virtual_sales_count\": 0, \"browse_count\": 0, \"create_time\": \"2024-06-27 20:06:08\", \"update_time\": \"2024-06-27 20:06:08\", \"creator\": \"1\", \"updater\": \"1\", \"deleted\": 0, \"tenant_id\": 1, \"sku_properties\": \"[{\\\\\"price\\\\\": 42900, \\\\\"stock\\\\\": 46, \\\\\"weight\\\\\": 24.0, \\\\\"properties\\\\\": \\\\\"[{\\\\\\\\\\\\\"propertyId\\\\\\\\\\\\\":14,\\\\\\\\\\\\\"propertyName\\\\\\\\\\\\\":\\\\\\\\\\\\\"圈口\\\\\\\\\\\\\",\\\\\\\\\\\\\"valueId\\\\\\\\\\\\\":30,\\\\\\\\\\\\\"valueName\\\\\\\\\\\\\":\\\\\\\\\\\\\"56圈口\\\\\\\\\\\\\"}]\\\\\", \\\\\"propertyId\\\\\": 40, \\\\\"propertyName\\\\\": \\\\\"SKU属性\\\\\"}, {\\\\\"price\\\\\": 42900, \\\\\"stock\\\\\": 24, \\\\\"weight\\\\\": 25.0, \\\\\"properties\\\\\": \\\\\"[{\\\\\\\\\\\\\"propertyId\\\\\\\\\\\\\":14,\\\\\\\\\\\\\"propertyName\\\\\\\\\\\\\":\\\\\\\\\\\\\"圈口\\\\\\\\\\\\\",\\\\\\\\\\\\\"valueId\\\\\\\\\\\\\":31,\\\\\\\\\\\\\"valueName\\\\\\\\\\\\\":\\\\\\\\\\\\\"58圈口\\\\\\\\\\\\\"}]\\\\\", \\\\\"propertyId\\\\\": 41, \\\\\"propertyName\\\\\": \\\\\"SKU属性\\\\\"}, {\\\\\"price\\\\\": 42900, \\\\\"stock\\\\\": 18, \\\\\"weight\\\\\": 26.0, \\\\\"properties\\\\\": \\\\\"[{\\\\\\\\\\\\\"propertyId\\\\\\\\\\\\\":14,\\\\\\\\\\\\\"propertyName\\\\\\\\\\\\\":\\\\\\\\\\\\\"圈口\\\\\\\\\\\\\",\\\\\\\\\\\\\"valueId\\\\\\\\\\\\\":32,\\\\\\\\\\\\\"valueName\\\\\\\\\\\\\":\\\\\\\\\\\\\"60圈口\\\\\\\\\\\\\"}]\\\\\", \\\\\"propertyId\\\\\": 42, \\\\\"propertyName\\\\\": \\\\\"SKU属性\\\\\"}, {\\\\\"price\\\\\": 42900, \\\\\"stock\\\\\": 19, \\\\\"weight\\\\\": 29.0, \\\\\"properties\\\\\": \\\\\"[{\\\\\\\\\\\\\"propertyId\\\\\\\\\\\\\":14,\\\\\\\\\\\\\"propertyName\\\\\\\\\\\\\":\\\\\\\\\\\\\"圈口\\\\\\\\\\\\\",\\\\\\\\\\\\\"valueId\\\\\\\\\\\\\":33,\\\\\\\\\\\\\"valueName\\\\\\\\\\\\\":\\\\\\\\\\\\\"54圈口\\\\\\\\\\\\\"}]\\\\\", \\\\\"propertyId\\\\\": 43, \\\\\"propertyName\\\\\": \\\\\"SKU属性\\\\\"}]\"}', '{\"spu_id\": 648, \"name\": \"繁花似锦银手镯女纯银9999足银镯子菡萏叮当镯银饰520礼物送女友\", \"keyword\": \"繁花似锦、推拉\", \"introduction\": \"繁花似锦、推拉\", \"description\": \"<p>商品详情</p>\", \"category_id\": 84, \"brand_id\": 4, \"pic_url\": \"https://yinshi-1309445959.cos.ap-beijing.myqcloud.com/yinshi-1309445959/52877ffff30ee3716fb65ed9d09e783d7decde3348be42b84ba5480c3c1e0fdd.jpg\", \"slider_pic_urls\": \"[\\\\\"https://yinshi-1309445959.cos.ap-beijing.myqcloud.com/yinshi-1309445959/52877ffff30ee3716fb65ed9d09e783d7decde3348be42b84ba5480c3c1e0fdd.jpg\\\\\",\\\\\"https://yinshi-1309445959.cos.ap-beijing.myqcloud.com/yinshi-1309445959/83b4e706a452f6350601ba4bed86c6ce9784e783d3b5f0b5f959b2e52cc154c0.jpg\\\\\",\\\\\"https://yinshi-1309445959.cos.ap-beijing.myqcloud.com/yinshi-1309445959/8a72176de15e47492f537e52d8a0ed510d7dcec4042a76628885f03c7ddfc638.jpg\\\\\",\\\\\"https://yinshi-1309445959.cos.ap-beijing.myqcloud.com/yinshi-1309445959/d1c3098ad2e50f53d3067347a8493958b65fecd99be4da3e1258a27525442cb3.jpg\\\\\"]\", \"sort\": 0, \"status\": 1, \"spec_type\": 0, \"price\": 34900, \"market_price\": 32400, \"cost_price\": 12300, \"stock\": 87, \"delivery_types\": \"2\", \"delivery_template_id\": null, \"give_integral\": 0, \"sub_commission_type\": 0, \"sales_count\": 0, \"virtual_sales_count\": 0, \"browse_count\": 0, \"create_time\": \"2024-06-27 20:10:16\", \"update_time\": \"2024-06-27 20:10:16\", \"creator\": \"1\", \"updater\": \"1\", \"deleted\": 0, \"tenant_id\": 1, \"sku_properties\": \"[{\\\\\"price\\\\\": 34900, \\\\\"stock\\\\\": 87, \\\\\"weight\\\\\": 30.0, \\\\\"properties\\\\\": \\\\\"[{\\\\\\\\\\\\\"propertyId\\\\\\\\\\\\\":0,\\\\\\\\\\\\\"propertyName\\\\\\\\\\\\\":\\\\\\\\\\\\\"默认\\\\\\\\\\\\\",\\\\\\\\\\\\\"valueId\\\\\\\\\\\\\":0,\\\\\\\\\\\\\"valueName\\\\\\\\\\\\\":\\\\\\\\\\\\\"默认\\\\\\\\\\\\\"}]\\\\\", \\\\\"propertyId\\\\\": 44, \\\\\"propertyName\\\\\": \\\\\"SKU属性\\\\\"}]\"}', '{\"spu_id\": 649, \"name\": \"足银999.9实心唐草纹描金纯银手镯闭口女款送女朋友生日礼物情人\", \"keyword\": \"唐草纹、描金、闭口\", \"introduction\": \"唐草纹、描金、闭口\", \"description\": \"<p>详情</p>\", \"category_id\": 84, \"brand_id\": 4, \"pic_url\": \"https://yinshi-1309445959.cos.ap-beijing.myqcloud.com/yinshi-1309445959/c0ee05b5ede9e4bfcea9eb3aee19c90b68428135a27e3c71274e684bfd94079e.jpg\", \"slider_pic_urls\": \"[\\\\\"https://yinshi-1309445959.cos.ap-beijing.myqcloud.com/yinshi-1309445959/c0ee05b5ede9e4bfcea9eb3aee19c90b68428135a27e3c71274e684bfd94079e.jpg\\\\\",\\\\\"https://yinshi-1309445959.cos.ap-beijing.myqcloud.com/yinshi-1309445959/0615f2b205da1bb44b4e4debe60f604018490c95179923eb174d8fd86319309a.jpg\\\\\",\\\\\"https://yinshi-1309445959.cos.ap-beijing.myqcloud.com/yinshi-1309445959/0974d607816307a218e222d7b7e76c76d71a3cd4f9710a4db6b86bcc3e65125d.jpg\\\\\",\\\\\"https://yinshi-1309445959.cos.ap-beijing.myqcloud.com/yinshi-1309445959/1f7eedaf8c97aa62b92f83afe92c97979de6edb84cfb2c93095eeaf32cb9ef3e.jpg\\\\\",\\\\\"https://yinshi-1309445959.cos.ap-beijing.myqcloud.com/yinshi-1309445959/db6814996bb82683d83d98122b8332b5b2a07e13dc46a3248fcaca5122e6c4b0.jpg\\\\\"]\", \"sort\": 0, \"status\": 1, \"spec_type\": 0, \"price\": 32900, \"market_price\": 10000, \"cost_price\": 20000, \"stock\": 41, \"delivery_types\": \"2\", \"delivery_template_id\": null, \"give_integral\": 0, \"sub_commission_type\": 0, \"sales_count\": 0, \"virtual_sales_count\": 0, \"browse_count\": 0, \"create_time\": \"2024-06-27 20:26:33\", \"update_time\": \"2024-06-27 20:26:33\", \"creator\": \"1\", \"updater\": \"1\", \"deleted\": 0, \"tenant_id\": 1, \"sku_properties\": \"[{\\\\\"price\\\\\": 32900, \\\\\"stock\\\\\": 41, \\\\\"weight\\\\\": 46.0, \\\\\"properties\\\\\": \\\\\"[{\\\\\\\\\\\\\"propertyId\\\\\\\\\\\\\":0,\\\\\\\\\\\\\"propertyName\\\\\\\\\\\\\":\\\\\\\\\\\\\"默认\\\\\\\\\\\\\",\\\\\\\\\\\\\"valueId\\\\\\\\\\\\\":0,\\\\\\\\\\\\\"valueName\\\\\\\\\\\\\":\\\\\\\\\\\\\"默认\\\\\\\\\\\\\"}]\\\\\", \\\\\"propertyId\\\\\": 45, \\\\\"propertyName\\\\\": \\\\\"SKU属性\\\\\"}]\"}', '{\"spu_id\": 650, \"name\": \"足银999.9古法莫比乌斯扭纹纯银手镯开口小众款送女朋友新年礼物\", \"keyword\": \"莫比乌斯、扭纹、开口\", \"introduction\": \"莫比乌斯、扭纹、开口\", \"description\": \"<p>详情</p>\", \"category_id\": 84, \"brand_id\": 4, \"pic_url\": \"https://yinshi-1309445959.cos.ap-beijing.myqcloud.com/yinshi-1309445959/5cd34aabc2416065ae9a67502f453fc69f5d34d0a9324f9d583d073e5d5d2b7e.jpg\", \"slider_pic_urls\": \"[\\\\\"https://yinshi-1309445959.cos.ap-beijing.myqcloud.com/yinshi-1309445959/9e55440af6d3c41a649c74387ce99795a7566e5f75445e696425dde5b7db11e3.jpg\\\\\",\\\\\"https://yinshi-1309445959.cos.ap-beijing.myqcloud.com/yinshi-1309445959/080087323506eeec2f0846803160b16152a0876bf75ae3889212d375e6794da0.jpg\\\\\",\\\\\"https://yinshi-1309445959.cos.ap-beijing.myqcloud.com/yinshi-1309445959/5cd34aabc2416065ae9a67502f453fc69f5d34d0a9324f9d583d073e5d5d2b7e.jpg\\\\\",\\\\\"https://yinshi-1309445959.cos.ap-beijing.myqcloud.com/yinshi-1309445959/b67472d3c505eebe4ad222d184456a0b3eb00494176d18797075890d4bc66d4e.jpg\\\\\",\\\\\"https://yinshi-1309445959.cos.ap-beijing.myqcloud.com/yinshi-1309445959/bd17ee56b54007128789fa3f573c2ebe76b38faaa18b79471f66a25a3d8bc8d5.jpg\\\\\"]\", \"sort\": 0, \"status\": 1, \"spec_type\": 0, \"price\": 27900, \"market_price\": 24000, \"cost_price\": 23400, \"stock\": 11, \"delivery_types\": \"2\", \"delivery_template_id\": null, \"give_integral\": 0, \"sub_commission_type\": 0, \"sales_count\": 0, \"virtual_sales_count\": 0, \"browse_count\": 0, \"create_time\": \"2024-06-27 20:49:37\", \"update_time\": \"2024-06-27 20:49:37\", \"creator\": \"1\", \"updater\": \"1\", \"deleted\": 0, \"tenant_id\": 1, \"sku_properties\": \"[{\\\\\"price\\\\\": 27900, \\\\\"stock\\\\\": 11, \\\\\"weight\\\\\": 27.0, \\\\\"properties\\\\\": \\\\\"[{\\\\\\\\\\\\\"propertyId\\\\\\\\\\\\\":0,\\\\\\\\\\\\\"propertyName\\\\\\\\\\\\\":\\\\\\\\\\\\\"默认\\\\\\\\\\\\\",\\\\\\\\\\\\\"valueId\\\\\\\\\\\\\":0,\\\\\\\\\\\\\"valueName\\\\\\\\\\\\\":\\\\\\\\\\\\\"默认\\\\\\\\\\\\\"}]\\\\\", \\\\\"propertyId\\\\\": 46, \\\\\"propertyName\\\\\": \\\\\"SKU属性\\\\\"}]\"}', '{\"spu_id\": 651, \"name\": \"足银999银手镯女捕梦网手镯手环银镯子高级感送闺蜜送女朋友19克\", \"keyword\": \"捕梦网\", \"introduction\": \"捕梦网\", \"description\": \"<p>详情</p>\", \"category_id\": 84, \"brand_id\": 4, \"pic_url\": \"https://yinshi-1309445959.cos.ap-beijing.myqcloud.com/yinshi-1309445959/f29eb9854efe0822d30a54d6dda4f6f4a54cf65f22565fca24e25de75165036a.jpg\", \"slider_pic_urls\": \"[\\\\\"https://yinshi-1309445959.cos.ap-beijing.myqcloud.com/yinshi-1309445959/6b23262332274e42de99413a83601a4be7e8ea9c8c0d02081ad97fbfee2c677e.jpg\\\\\",\\\\\"https://yinshi-1309445959.cos.ap-beijing.myqcloud.com/yinshi-1309445959/d4cf40c593cad9895a060d093a53c639ced04ece1a9cffab673d2987f601cc43.jpg\\\\\",\\\\\"https://yinshi-1309445959.cos.ap-beijing.myqcloud.com/yinshi-1309445959/f29eb9854efe0822d30a54d6dda4f6f4a54cf65f22565fca24e25de75165036a.jpg\\\\\"]\", \"sort\": 0, \"status\": 1, \"spec_type\": 0, \"price\": 25900, \"market_price\": 22000, \"cost_price\": 24000, \"stock\": 74, \"delivery_types\": \"2\", \"delivery_template_id\": null, \"give_integral\": 0, \"sub_commission_type\": 0, \"sales_count\": 0, \"virtual_sales_count\": 0, \"browse_count\": 0, \"create_time\": \"2024-06-27 20:54:44\", \"update_time\": \"2024-06-27 20:54:44\", \"creator\": \"1\", \"updater\": \"1\", \"deleted\": 0, \"tenant_id\": 1, \"sku_properties\": \"[{\\\\\"price\\\\\": 25900, \\\\\"stock\\\\\": 74, \\\\\"weight\\\\\": 15.0, \\\\\"properties\\\\\": \\\\\"[{\\\\\\\\\\\\\"propertyId\\\\\\\\\\\\\":0,\\\\\\\\\\\\\"propertyName\\\\\\\\\\\\\":\\\\\\\\\\\\\"默认\\\\\\\\\\\\\",\\\\\\\\\\\\\"valueId\\\\\\\\\\\\\":0,\\\\\\\\\\\\\"valueName\\\\\\\\\\\\\":\\\\\\\\\\\\\"默认\\\\\\\\\\\\\"}]\\\\\", \\\\\"propertyId\\\\\": 47, \\\\\"propertyName\\\\\": \\\\\"SKU属性\\\\\"}]\"}', '{\"spu_id\": 652, \"name\": \"足银999.9铃兰花开口纯银手镯小众款\", \"keyword\": \"铃兰花\", \"introduction\": \"铃兰花\", \"description\": \"<p>详情</p>\", \"category_id\": 84, \"brand_id\": 4, \"pic_url\": \"https://yinshi-1309445959.cos.ap-beijing.myqcloud.com/yinshi-1309445959/44a0f1a4d617452eae6a94de90fad74813582761f969c868dedf627b4ab70451.jpg\", \"slider_pic_urls\": \"[\\\\\"https://yinshi-1309445959.cos.ap-beijing.myqcloud.com/yinshi-1309445959/0029269a915f239a65bc78f27ef88861d5462632c3ae440043f0daf4051031b1.jpg\\\\\",\\\\\"https://yinshi-1309445959.cos.ap-beijing.myqcloud.com/yinshi-1309445959/44a0f1a4d617452eae6a94de90fad74813582761f969c868dedf627b4ab70451.jpg\\\\\",\\\\\"https://yinshi-1309445959.cos.ap-beijing.myqcloud.com/yinshi-1309445959/7d23009071e6536a267da9cd60b684bf1244875e6a0ffc132372adb540df4756.jpg\\\\\",\\\\\"https://yinshi-1309445959.cos.ap-beijing.myqcloud.com/yinshi-1309445959/2cde54fe73894f0aa21555a0c3a7442c46aeb6618cae46860ce7922edf030032.jpg\\\\\"]\", \"sort\": 0, \"status\": 1, \"spec_type\": 0, \"price\": 39900, \"market_price\": 34200, \"cost_price\": 35600, \"stock\": 71, \"delivery_types\": \"2\", \"delivery_template_id\": null, \"give_integral\": 0, \"sub_commission_type\": 0, \"sales_count\": 0, \"virtual_sales_count\": 0, \"browse_count\": 0, \"create_time\": \"2024-06-27 20:57:30\", \"update_time\": \"2024-06-27 20:57:30\", \"creator\": \"1\", \"updater\": \"1\", \"deleted\": 0, \"tenant_id\": 1, \"sku_properties\": \"[{\\\\\"price\\\\\": 39900, \\\\\"stock\\\\\": 71, \\\\\"weight\\\\\": 27.0, \\\\\"properties\\\\\": \\\\\"[{\\\\\\\\\\\\\"propertyId\\\\\\\\\\\\\":0,\\\\\\\\\\\\\"propertyName\\\\\\\\\\\\\":\\\\\\\\\\\\\"默认\\\\\\\\\\\\\",\\\\\\\\\\\\\"valueId\\\\\\\\\\\\\":0,\\\\\\\\\\\\\"valueName\\\\\\\\\\\\\":\\\\\\\\\\\\\"默认\\\\\\\\\\\\\"}]\\\\\", \\\\\"propertyId\\\\\": 48, \\\\\"propertyName\\\\\": \\\\\"SKU属性\\\\\"}]\"}', '{\"spu_id\": 653, \"name\": \"足银999.9古法珐琅彩兰花纯银手镯开口小众款送女朋友新年礼物\", \"keyword\": \"珐琅彩、古法、兰花\", \"introduction\": \"珐琅彩、古法、兰花\", \"description\": \"<p>详情</p>\", \"category_id\": 84, \"brand_id\": 4, \"pic_url\": \"https://yinshi-1309445959.cos.ap-beijing.myqcloud.com/yinshi-1309445959/b1177d19112d909ac2725bbad6f212ecfe3eeffe7bb4d1892536e4138f946941.jpg\", \"slider_pic_urls\": \"[\\\\\"https://yinshi-1309445959.cos.ap-beijing.myqcloud.com/yinshi-1309445959/b1177d19112d909ac2725bbad6f212ecfe3eeffe7bb4d1892536e4138f946941.jpg\\\\\",\\\\\"https://yinshi-1309445959.cos.ap-beijing.myqcloud.com/yinshi-1309445959/d13ad1c75ac15d283d32405337efbd4e802806a4d343730f42c628c55ec9dd89.jpg\\\\\",\\\\\"https://yinshi-1309445959.cos.ap-beijing.myqcloud.com/yinshi-1309445959/1c63d1ea4ccd667a443bc2f8d10e89d0f97e82d6a17a41ba8868cde12d21bdb7.jpg\\\\\",\\\\\"https://yinshi-1309445959.cos.ap-beijing.myqcloud.com/yinshi-1309445959/270e88e785663ce0ac14f849d63f949a86acb96cf972c5b0369b0379dc94951d.jpg\\\\\"]\", \"sort\": 0, \"status\": 1, \"spec_type\": 0, \"price\": 36900, \"market_price\": 213200, \"cost_price\": 21313100, \"stock\": 17, \"delivery_types\": \"2\", \"delivery_template_id\": null, \"give_integral\": 0, \"sub_commission_type\": 0, \"sales_count\": 0, \"virtual_sales_count\": 0, \"browse_count\": 0, \"create_time\": \"2024-06-27 21:00:56\", \"update_time\": \"2024-06-27 21:00:56\", \"creator\": \"1\", \"updater\": \"1\", \"deleted\": 0, \"tenant_id\": 1, \"sku_properties\": \"[{\\\\\"price\\\\\": 36900, \\\\\"stock\\\\\": 17, \\\\\"weight\\\\\": 30.0, \\\\\"properties\\\\\": \\\\\"[{\\\\\\\\\\\\\"propertyId\\\\\\\\\\\\\":0,\\\\\\\\\\\\\"propertyName\\\\\\\\\\\\\":\\\\\\\\\\\\\"默认\\\\\\\\\\\\\",\\\\\\\\\\\\\"valueId\\\\\\\\\\\\\":0,\\\\\\\\\\\\\"valueName\\\\\\\\\\\\\":\\\\\\\\\\\\\"默认\\\\\\\\\\\\\"}]\\\\\", \\\\\"propertyId\\\\\": 49, \\\\\"propertyName\\\\\": \\\\\"SKU属性\\\\\"}]\"}', '{\"spu_id\": 654, \"name\": \"足银999.9闭口纯银手镯唐草纹时尚手镯\", \"keyword\": \"唐草纹、闭口\", \"introduction\": \"唐草纹、闭口\", \"description\": \"<p>详情</p>\", \"category_id\": 84, \"brand_id\": 4, \"pic_url\": \"https://yinshi-1309445959.cos.ap-beijing.myqcloud.com/yinshi-1309445959/42c947160415f610a29ca040fbbf610c87d1188d4249a031490884fff55b670a.jpg\", \"slider_pic_urls\": \"[\\\\\"https://yinshi-1309445959.cos.ap-beijing.myqcloud.com/yinshi-1309445959/ce0cb13f7873885e33868501e7c2b243a3ea107a80513490ff39dba1fbdd8c85.jpg\\\\\"]\", \"sort\": 0, \"status\": 1, \"spec_type\": 1, \"price\": 24800, \"market_price\": 24500, \"cost_price\": 4300, \"stock\": 10, \"delivery_types\": \"2\", \"delivery_template_id\": null, \"give_integral\": 0, \"sub_commission_type\": 0, \"sales_count\": 0, \"virtual_sales_count\": 0, \"browse_count\": 0, \"create_time\": \"2024-06-27 21:05:12\", \"update_time\": \"2024-06-27 21:05:12\", \"creator\": \"1\", \"updater\": \"1\", \"deleted\": 0, \"tenant_id\": 1, \"sku_properties\": \"[{\\\\\"price\\\\\": 29000, \\\\\"stock\\\\\": 1, \\\\\"weight\\\\\": 23.0, \\\\\"properties\\\\\": \\\\\"[{\\\\\\\\\\\\\"propertyId\\\\\\\\\\\\\":14,\\\\\\\\\\\\\"propertyName\\\\\\\\\\\\\":\\\\\\\\\\\\\"圈口\\\\\\\\\\\\\",\\\\\\\\\\\\\"valueId\\\\\\\\\\\\\":33,\\\\\\\\\\\\\"valueName\\\\\\\\\\\\\":\\\\\\\\\\\\\"54圈口\\\\\\\\\\\\\"}]\\\\\", \\\\\"propertyId\\\\\": 50, \\\\\"propertyName\\\\\": \\\\\"SKU属性\\\\\"}, {\\\\\"price\\\\\": 24800, \\\\\"stock\\\\\": 2, \\\\\"weight\\\\\": 23.0, \\\\\"properties\\\\\": \\\\\"[{\\\\\\\\\\\\\"propertyId\\\\\\\\\\\\\":14,\\\\\\\\\\\\\"propertyName\\\\\\\\\\\\\":\\\\\\\\\\\\\"圈口\\\\\\\\\\\\\",\\\\\\\\\\\\\"valueId\\\\\\\\\\\\\":30,\\\\\\\\\\\\\"valueName\\\\\\\\\\\\\":\\\\\\\\\\\\\"56圈口\\\\\\\\\\\\\"}]\\\\\", \\\\\"propertyId\\\\\": 51, \\\\\"propertyName\\\\\": \\\\\"SKU属性\\\\\"}, {\\\\\"price\\\\\": 26900, \\\\\"stock\\\\\": 3, \\\\\"weight\\\\\": 24.0, \\\\\"properties\\\\\": \\\\\"[{\\\\\\\\\\\\\"propertyId\\\\\\\\\\\\\":14,\\\\\\\\\\\\\"propertyName\\\\\\\\\\\\\":\\\\\\\\\\\\\"圈口\\\\\\\\\\\\\",\\\\\\\\\\\\\"valueId\\\\\\\\\\\\\":31,\\\\\\\\\\\\\"valueName\\\\\\\\\\\\\":\\\\\\\\\\\\\"58圈口\\\\\\\\\\\\\"}]\\\\\", \\\\\"propertyId\\\\\": 52, \\\\\"propertyName\\\\\": \\\\\"SKU属性\\\\\"}, {\\\\\"price\\\\\": 27400, \\\\\"stock\\\\\": 4, \\\\\"weight\\\\\": 24.0, \\\\\"properties\\\\\": \\\\\"[{\\\\\\\\\\\\\"propertyId\\\\\\\\\\\\\":14,\\\\\\\\\\\\\"propertyName\\\\\\\\\\\\\":\\\\\\\\\\\\\"圈口\\\\\\\\\\\\\",\\\\\\\\\\\\\"valueId\\\\\\\\\\\\\":32,\\\\\\\\\\\\\"valueName\\\\\\\\\\\\\":\\\\\\\\\\\\\"60圈口\\\\\\\\\\\\\"}]\\\\\", \\\\\"propertyId\\\\\": 53, \\\\\"propertyName\\\\\": \\\\\"SKU属性\\\\\"}]\"}', '{\"spu_id\": 655, \"name\": \"国风大气描金狐狸足银9999轻奢高级感纯银手镯\", \"keyword\": \"金狐狸\", \"introduction\": \"金狐狸\", \"description\": \"<p>详情</p>\", \"category_id\": 84, \"brand_id\": 4, \"pic_url\": \"https://yinshi-1309445959.cos.ap-beijing.myqcloud.com/yinshi-1309445959/eca1634e52c7fdc0e8c7c256871f82974517145069704adb1bbd98688a924188.jpg\", \"slider_pic_urls\": \"[\\\\\"https://yinshi-1309445959.cos.ap-beijing.myqcloud.com/yinshi-1309445959/eca1634e52c7fdc0e8c7c256871f82974517145069704adb1bbd98688a924188.jpg\\\\\",\\\\\"https://yinshi-1309445959.cos.ap-beijing.myqcloud.com/yinshi-1309445959/0c0d9ad1a0d44fc18da891435c837c85afbb6eb9d89c405b7176e309c8a8f4db.jpg\\\\\"]\", \"sort\": 0, \"status\": 1, \"spec_type\": 1, \"price\": 35900, \"market_price\": 32100, \"cost_price\": 232100, \"stock\": 558, \"delivery_types\": \"2\", \"delivery_template_id\": null, \"give_integral\": 0, \"sub_commission_type\": 0, \"sales_count\": 0, \"virtual_sales_count\": 0, \"browse_count\": 0, \"create_time\": \"2024-06-27 21:15:12\", \"update_time\": \"2024-06-27 21:15:12\", \"creator\": \"1\", \"updater\": \"1\", \"deleted\": 0, \"tenant_id\": 1, \"sku_properties\": \"[{\\\\\"price\\\\\": 35900, \\\\\"stock\\\\\": 213, \\\\\"weight\\\\\": 34.0, \\\\\"properties\\\\\": \\\\\"[{\\\\\\\\\\\\\"propertyId\\\\\\\\\\\\\":14,\\\\\\\\\\\\\"propertyName\\\\\\\\\\\\\":\\\\\\\\\\\\\"圈口\\\\\\\\\\\\\",\\\\\\\\\\\\\"valueId\\\\\\\\\\\\\":33,\\\\\\\\\\\\\"valueName\\\\\\\\\\\\\":\\\\\\\\\\\\\"54圈口\\\\\\\\\\\\\"}]\\\\\", \\\\\"propertyId\\\\\": 54, \\\\\"propertyName\\\\\": \\\\\"SKU属性\\\\\"}, {\\\\\"price\\\\\": 36000, \\\\\"stock\\\\\": 12, \\\\\"weight\\\\\": 35.0, \\\\\"properties\\\\\": \\\\\"[{\\\\\\\\\\\\\"propertyId\\\\\\\\\\\\\":14,\\\\\\\\\\\\\"propertyName\\\\\\\\\\\\\":\\\\\\\\\\\\\"圈口\\\\\\\\\\\\\",\\\\\\\\\\\\\"valueId\\\\\\\\\\\\\":30,\\\\\\\\\\\\\"valueName\\\\\\\\\\\\\":\\\\\\\\\\\\\"56圈口\\\\\\\\\\\\\"}]\\\\\", \\\\\"propertyId\\\\\": 55, \\\\\"propertyName\\\\\": \\\\\"SKU属性\\\\\"}, {\\\\\"price\\\\\": 36100, \\\\\"stock\\\\\": 333, \\\\\"weight\\\\\": 36.0, \\\\\"properties\\\\\": \\\\\"[{\\\\\\\\\\\\\"propertyId\\\\\\\\\\\\\":14,\\\\\\\\\\\\\"propertyName\\\\\\\\\\\\\":\\\\\\\\\\\\\"圈口\\\\\\\\\\\\\",\\\\\\\\\\\\\"valueId\\\\\\\\\\\\\":31,\\\\\\\\\\\\\"valueName\\\\\\\\\\\\\":\\\\\\\\\\\\\"58圈口\\\\\\\\\\\\\"}]\\\\\", \\\\\"propertyId\\\\\": 56, \\\\\"propertyName\\\\\": \\\\\"SKU属性\\\\\"}]\"}', '{\"spu_id\": 656, \"name\": \"足银新中式国风纯银铃兰花蝴蝶流苏吊坠编绳项链高级感锁骨链\", \"keyword\": \"铃兰花、蝴蝶、流苏、编绳、锁骨链\", \"introduction\": \"铃兰花、蝴蝶、流苏、编绳、锁骨链\", \"description\": \"<p>详情</p>\", \"category_id\": 87, \"brand_id\": 4, \"pic_url\": \"https://yinshi-1309445959.cos.ap-beijing.myqcloud.com/yinshi-1309445959/a3bc2ea014f1c41f4c29a26bd7687389f834171a4a119d54452335d4249604cc.jpg\", \"slider_pic_urls\": \"[\\\\\"https://yinshi-1309445959.cos.ap-beijing.myqcloud.com/yinshi-1309445959/6e63fe5614f26384e3ff85f39f380c8983fd6ffa52266a1600b2c4b55aeb1f86.jpg\\\\\",\\\\\"https://yinshi-1309445959.cos.ap-beijing.myqcloud.com/yinshi-1309445959/462ccc4d98828e7b9ff8c846fb4b1c0f36ec3353962a1ed4864f02183c108d2e.jpg\\\\\"]\", \"sort\": 0, \"status\": 1, \"spec_type\": 0, \"price\": 13900, \"market_price\": 13900, \"cost_price\": 10000, \"stock\": 85, \"delivery_types\": \"2\", \"delivery_template_id\": null, \"give_integral\": 0, \"sub_commission_type\": 0, \"sales_count\": 0, \"virtual_sales_count\": 0, \"browse_count\": 0, \"create_time\": \"2024-06-27 21:24:36\", \"update_time\": \"2024-06-27 21:24:36\", \"creator\": \"1\", \"updater\": \"1\", \"deleted\": 0, \"tenant_id\": 1, \"sku_properties\": \"[{\\\\\"price\\\\\": 13900, \\\\\"stock\\\\\": 85, \\\\\"weight\\\\\": 0.0, \\\\\"properties\\\\\": \\\\\"[{\\\\\\\\\\\\\"propertyId\\\\\\\\\\\\\":0,\\\\\\\\\\\\\"propertyName\\\\\\\\\\\\\":\\\\\\\\\\\\\"默认\\\\\\\\\\\\\",\\\\\\\\\\\\\"valueId\\\\\\\\\\\\\":0,\\\\\\\\\\\\\"valueName\\\\\\\\\\\\\":\\\\\\\\\\\\\"默认\\\\\\\\\\\\\"}]\\\\\", \\\\\"propertyId\\\\\": 57, \\\\\"propertyName\\\\\": \\\\\"SKU属性\\\\\"}]\"}', '{\"spu_id\": 657, \"name\": \"足银999碎冰冰三面纯银手镯实心闭口手镯520礼物送女朋友\", \"keyword\": \"碎冰冰\", \"introduction\": \"碎冰冰\", \"description\": \"<p>详情</p>\", \"category_id\": 84, \"brand_id\": 4, \"pic_url\": \"https://yinshi-1309445959.cos.ap-beijing.myqcloud.com/yinshi-1309445959/b685f541dd19742beb2e3dc014ffc41d14e2771023424d85b9b0510393fa01ec.jpg\", \"slider_pic_urls\": \"[\\\\\"https://yinshi-1309445959.cos.ap-beijing.myqcloud.com/yinshi-1309445959/afd1e3528fe085cd4a2598324f5021ef67ee1d0f74fcab3b6e07e7a88a8c1b00.jpg\\\\\"]\", \"sort\": 0, \"status\": 1, \"spec_type\": 1, \"price\": 25900, \"market_price\": 25900, \"cost_price\": 25900, \"stock\": 167, \"delivery_types\": \"2\", \"delivery_template_id\": null, \"give_integral\": 0, \"sub_commission_type\": 0, \"sales_count\": 0, \"virtual_sales_count\": 0, \"browse_count\": 0, \"create_time\": \"2024-06-27 21:28:59\", \"update_time\": \"2024-06-27 21:28:59\", \"creator\": \"1\", \"updater\": \"1\", \"deleted\": 0, \"tenant_id\": 1, \"sku_properties\": \"[{\\\\\"price\\\\\": 25900, \\\\\"stock\\\\\": 13, \\\\\"weight\\\\\": 19.0, \\\\\"properties\\\\\": \\\\\"[{\\\\\\\\\\\\\"propertyId\\\\\\\\\\\\\":14,\\\\\\\\\\\\\"propertyName\\\\\\\\\\\\\":\\\\\\\\\\\\\"圈口\\\\\\\\\\\\\",\\\\\\\\\\\\\"valueId\\\\\\\\\\\\\":34,\\\\\\\\\\\\\"valueName\\\\\\\\\\\\\":\\\\\\\\\\\\\"52圈口\\\\\\\\\\\\\"}]\\\\\", \\\\\"propertyId\\\\\": 58, \\\\\"propertyName\\\\\": \\\\\"SKU属性\\\\\"}, {\\\\\"price\\\\\": 26000, \\\\\"stock\\\\\": 74, \\\\\"weight\\\\\": 21.0, \\\\\"properties\\\\\": \\\\\"[{\\\\\\\\\\\\\"propertyId\\\\\\\\\\\\\":14,\\\\\\\\\\\\\"propertyName\\\\\\\\\\\\\":\\\\\\\\\\\\\"圈口\\\\\\\\\\\\\",\\\\\\\\\\\\\"valueId\\\\\\\\\\\\\":33,\\\\\\\\\\\\\"valueName\\\\\\\\\\\\\":\\\\\\\\\\\\\"54圈口\\\\\\\\\\\\\"}]\\\\\", \\\\\"propertyId\\\\\": 59, \\\\\"propertyName\\\\\": \\\\\"SKU属性\\\\\"}, {\\\\\"price\\\\\": 26100, \\\\\"stock\\\\\": 22, \\\\\"weight\\\\\": 22.0, \\\\\"properties\\\\\": \\\\\"[{\\\\\\\\\\\\\"propertyId\\\\\\\\\\\\\":14,\\\\\\\\\\\\\"propertyName\\\\\\\\\\\\\":\\\\\\\\\\\\\"圈口\\\\\\\\\\\\\",\\\\\\\\\\\\\"valueId\\\\\\\\\\\\\":30,\\\\\\\\\\\\\"valueName\\\\\\\\\\\\\":\\\\\\\\\\\\\"56圈口\\\\\\\\\\\\\"}]\\\\\", \\\\\"propertyId\\\\\": 60, \\\\\"propertyName\\\\\": \\\\\"SKU属性\\\\\"}, {\\\\\"price\\\\\": 26200, \\\\\"stock\\\\\": 26, \\\\\"weight\\\\\": 23.0, \\\\\"properties\\\\\": \\\\\"[{\\\\\\\\\\\\\"propertyId\\\\\\\\\\\\\":14,\\\\\\\\\\\\\"propertyName\\\\\\\\\\\\\":\\\\\\\\\\\\\"圈口\\\\\\\\\\\\\",\\\\\\\\\\\\\"valueId\\\\\\\\\\\\\":31,\\\\\\\\\\\\\"valueName\\\\\\\\\\\\\":\\\\\\\\\\\\\"58圈口\\\\\\\\\\\\\"}]\\\\\", \\\\\"propertyId\\\\\": 61, \\\\\"propertyName\\\\\": \\\\\"SKU属性\\\\\"}, {\\\\\"price\\\\\": 26300, \\\\\"stock\\\\\": 32, \\\\\"weight\\\\\": 24.0, \\\\\"properties\\\\\": \\\\\"[{\\\\\\\\\\\\\"propertyId\\\\\\\\\\\\\":14,\\\\\\\\\\\\\"propertyName\\\\\\\\\\\\\":\\\\\\\\\\\\\"圈口\\\\\\\\\\\\\",\\\\\\\\\\\\\"valueId\\\\\\\\\\\\\":32,\\\\\\\\\\\\\"valueName\\\\\\\\\\\\\":\\\\\\\\\\\\\"60圈口\\\\\\\\\\\\\"}]\\\\\", \\\\\"propertyId\\\\\": 62, \\\\\"propertyName\\\\\": \\\\\"SKU属性\\\\\"}]\"}', '{\"spu_id\": 658, \"name\": \"足银999.9吉言筷子镯\", \"keyword\": \"筷子镯\", \"introduction\": \"筷子镯\", \"description\": \"<p>详情</p>\", \"category_id\": 84, \"brand_id\": 4, \"pic_url\": \"https://yinshi-1309445959.cos.ap-beijing.myqcloud.com/yinshi-1309445959/527bc36a394955e5677960057777c8f87a17fde3158aecd44fa9a96463721e49.jpg\", \"slider_pic_urls\": \"[\\\\\"https://yinshi-1309445959.cos.ap-beijing.myqcloud.com/yinshi-1309445959/527bc36a394955e5677960057777c8f87a17fde3158aecd44fa9a96463721e49.jpg\\\\\",\\\\\"https://yinshi-1309445959.cos.ap-beijing.myqcloud.com/yinshi-1309445959/1a414df4e18a9330d5e7bd84011e65faa84dd974cd5d4b39458b332a1fc59e87.jpg\\\\\",\\\\\"https://yinshi-1309445959.cos.ap-beijing.myqcloud.com/yinshi-1309445959/cbed5fc917b9725d67707cfe1740bdccfcb76ad0e6d7ae666b0cb45a3f035a93.jpg\\\\\",\\\\\"https://yinshi-1309445959.cos.ap-beijing.myqcloud.com/yinshi-1309445959/a3cda8bb8ece5087ba595aadd900b0cb0960661404f7118303954a8f431a5957.jpg\\\\\",\\\\\"https://yinshi-1309445959.cos.ap-beijing.myqcloud.com/yinshi-1309445959/4b68a3ad63672d7118bc523ba76229f78fba33b57a755990ec002ae425d23683.jpg\\\\\"]\", \"sort\": 0, \"status\": 1, \"spec_type\": 0, \"price\": 47800, \"market_price\": 47800, \"cost_price\": 47800, \"stock\": 62, \"delivery_types\": \"2\", \"delivery_template_id\": null, \"give_integral\": 0, \"sub_commission_type\": 0, \"sales_count\": 0, \"virtual_sales_count\": 0, \"browse_count\": 0, \"create_time\": \"2024-06-27 21:38:58\", \"update_time\": \"2024-06-27 21:38:58\", \"creator\": \"1\", \"updater\": \"1\", \"deleted\": 0, \"tenant_id\": 1, \"sku_properties\": \"[{\\\\\"price\\\\\": 47800, \\\\\"stock\\\\\": 62, \\\\\"weight\\\\\": 45.0, \\\\\"properties\\\\\": \\\\\"[{\\\\\\\\\\\\\"propertyId\\\\\\\\\\\\\":0,\\\\\\\\\\\\\"propertyName\\\\\\\\\\\\\":\\\\\\\\\\\\\"默认\\\\\\\\\\\\\",\\\\\\\\\\\\\"valueId\\\\\\\\\\\\\":0,\\\\\\\\\\\\\"valueName\\\\\\\\\\\\\":\\\\\\\\\\\\\"默认\\\\\\\\\\\\\"}]\\\\\", \\\\\"propertyId\\\\\": 63, \\\\\"propertyName\\\\\": \\\\\"SKU属性\\\\\"}]\"}']\n",
      "{\"spu_id\": 640, \"name\": \"足银9999描金海棠花银手镯开口实心纯银手镯古风新中式520礼物\", \"keyword\": \"手镯、闭口手镯、足银9999\", \"introduction\": \"新中式风格，送女朋友\", \"description\": \"<p>手镯手镯手镯</p>\", \"category_id\": 84, \"brand_id\": 4, \"pic_url\": \"https://yinshi-1309445959.cos.ap-beijing.myqcloud.com/yinshi-1309445959/151d5ce2e46d364effcebd407e7eb95075e2d289516f722e7b9b3946cfef53d8.png\", \"slider_pic_urls\": \"[\\\"https://yinshi-1309445959.cos.ap-beijing.myqcloud.com/yinshi-1309445959/8e9d9e96520f21e25b4ac730bc5e6c62e1d36f0e26c31a87685c18bce58c4498.jpg\\\",\\\"https://yinshi-1309445959.cos.ap-beijing.myqcloud.com/yinshi-1309445959/06e8b168cab5b48336ca29253c8e6cecad5e0ad8baacb2a98a9a5365136b9804.jpg\\\",\\\"https://yinshi-1309445959.cos.ap-beijing.myqcloud.com/yinshi-1309445959/3dbf47a546bc3665953519a2611c17daf2f3192ab3b16fd62ace20b993521c42.jpg\\\",\\\"https://yinshi-1309445959.cos.ap-beijing.myqcloud.com/yinshi-1309445959/d8656c5219a89a57d1d88e2838d7a48aa451f7eb993acb29ffcc79a5b377ef6c.jpg\\\",\\\"https://yinshi-1309445959.cos.ap-beijing.myqcloud.com/yinshi-1309445959/d37c09daf32cdb9ddd0f9d4673f415b6440bb5e46f9c15065b84cc97bc9ad035.jpg\\\"]\", \"sort\": 0, \"status\": 1, \"spec_type\": 0, \"price\": 49600, \"market_price\": 20000, \"cost_price\": 20000, \"stock\": 10, \"delivery_types\": \"2\", \"delivery_template_id\": null, \"give_integral\": 0, \"sub_commission_type\": 0, \"sales_count\": 0, \"virtual_sales_count\": 0, \"browse_count\": 0, \"create_time\": \"2024-06-27 18:25:29\", \"update_time\": \"2024-06-27 20:01:40\", \"creator\": \"1\", \"updater\": \"1\", \"deleted\": 0, \"tenant_id\": 1, \"sku_properties\": \"[{\\\"price\\\": 49600, \\\"stock\\\": 10, \\\"weight\\\": 30.0, \\\"properties\\\": \\\"[{\\\\\\\"propertyId\\\\\\\":0,\\\\\\\"propertyName\\\\\\\":\\\\\\\"默认\\\\\\\",\\\\\\\"valueId\\\\\\\":0,\\\\\\\"valueName\\\\\\\":\\\\\\\"默认\\\\\\\"}]\\\", \\\"propertyId\\\": 30, \\\"propertyName\\\": \\\"SKU属性\\\"}]\"}\n"
     ]
    },
    {
     "data": {
      "text/plain": [
       "19"
      ]
     },
     "execution_count": 1,
     "metadata": {},
     "output_type": "execute_result"
    }
   ],
   "source": [
    "import json\n",
    "\n",
    "# 定义一个函数来读取JSON文件并转换其中的对象为字符串列表\n",
    "def read_json_objects(file_path):\n",
    "    # 打开文件并加载JSON数据\n",
    "    with open(file_path, 'r', encoding='utf-8') as file:\n",
    "        data = json.load(file)\n",
    "\n",
    "    # 将每个对象转换为字符串并添加到列表中\n",
    "    objects_as_strings = [json.dumps(obj, ensure_ascii=False) for obj in data]\n",
    "    return objects_as_strings\n",
    "\n",
    "# 使用示例\n",
    "file_path = 'test_result.json'  # 你的JSON文件路径\n",
    "objects_as_strings = read_json_objects(file_path)\n",
    "print(objects_as_strings)\n",
    "print(objects_as_strings[0])\n",
    "len(objects_as_strings)\n"
   ]
  },
  {
   "cell_type": "code",
   "execution_count": 2,
   "metadata": {},
   "outputs": [],
   "source": [
    "# 使用 OpenAI Embedding\n",
    "# from langchain.embeddings.openai import OpenAIEmbeddings\n",
    "# 使用百度千帆 Embedding\n",
    "# from langchain.embeddings.baidu_qianfan_endpoint import QianfanEmbeddingsEndpoint\n",
    "# 使用我们自己封装的智谱 Embedding，需要将封装代码下载到本地使用\n",
    "from zhipuai_embedding import ZhipuAIEmbeddings\n",
    "import os\n",
    "from dotenv import load_dotenv, find_dotenv\n",
    "\n",
    "# 读取本地/项目的环境变量。\n",
    "# find_dotenv()寻找并定位.env文件的路径\n",
    "# load_dotenv()读取该.env文件，并将其中的环境变量加载到当前的运行环境中\n",
    "# 如果你设置的是全局的环境变量，这行代码则没有任何作用。\n",
    "_ = load_dotenv(find_dotenv())\n",
    "# 定义 Embeddings\n",
    "# embedding = OpenAIEmbeddings()\n",
    "embedding = ZhipuAIEmbeddings()\n",
    "# embedding = QianfanEmbeddingsEndpoint()\n",
    "\n",
    "# 定义持久化路径\n",
    "persist_directory = './data_base/chroma'"
   ]
  },
  {
   "cell_type": "code",
   "execution_count": 3,
   "metadata": {},
   "outputs": [],
   "source": [
    "!rm -rf './data_base/chroma'"
   ]
  },
  {
   "cell_type": "code",
   "execution_count": null,
   "metadata": {},
   "outputs": [],
   "source": [
    "from langchain.vectorstores.chroma import Chroma\n",
    "\n",
    "vectordb = Chroma.from_texts(\n",
    "    texts=objects_as_strings, \n",
    "    embedding=embedding,\n",
    "    persist_directory=persist_directory  # 允许我们将persist_directory目录保存到磁盘上\n",
    ")\n",
    "vectordb.persist()\n",
    "print(f\"向量库中存储的数量：{vectordb._collection.count()}\")"
   ]
  },
  {
   "cell_type": "markdown",
   "metadata": {},
   "source": [
    "### 1.2 检索"
   ]
  },
  {
   "cell_type": "code",
   "execution_count": 1,
   "metadata": {},
   "outputs": [
    {
     "name": "stdout",
     "output_type": "stream",
     "text": [
      "向量库中存储的数量：19\n"
     ]
    }
   ],
   "source": [
    "from dotenv import load_dotenv, find_dotenv\n",
    "import os\n",
    "from zhipuai_embedding import ZhipuAIEmbeddings\n",
    "from langchain.vectorstores.chroma import Chroma\n",
    "\n",
    "\n",
    "_ = load_dotenv(find_dotenv())    # read local .env file\n",
    "zhipuai_api_key = os.environ['ZHIPUAI_API_KEY']\n",
    "\n",
    "# 定义 Embeddings\n",
    "embedding = ZhipuAIEmbeddings()\n",
    "\n",
    "# 向量数据库持久化路径\n",
    "persist_directory = './data_base/chroma'\n",
    "\n",
    "# 加载数据库\n",
    "vectordb = Chroma(\n",
    "    persist_directory=persist_directory,  # 允许我们将persist_directory目录保存到磁盘上\n",
    "    embedding_function=embedding\n",
    ")\n",
    "print(f\"向量库中存储的数量：{vectordb._collection.count()}\")\n",
    "\n",
    "# Since Chroma 0.4.x the manual persistence method is no longer supported as docs are automatically persisted"
   ]
  },
  {
   "cell_type": "code",
   "execution_count": 2,
   "metadata": {},
   "outputs": [
    {
     "name": "stdout",
     "output_type": "stream",
     "text": [
      "检索到的内容数：3\n",
      "检索到的第0个内容: \n",
      "{\"spu_id\": 651, \"name\": \"足银999银手镯女捕梦网手镯手环银镯子高级感送闺蜜送女朋友19克\", \"keyword\": \"捕梦网\", \"introduction\": \"捕梦网\", \"description\": \"<p>详情</p>\", \"category_id\": 84, \"brand_id\": 4, \"pic_url\": \"https://yinshi-1309445959.cos.ap-beijing.myqcloud.com/yinshi-1309445959/f29eb9854efe0822d30a54d6dda4f6f4a54cf65f22565fca24e25de75165036a.jpg\", \"slider_pic_urls\": \"[\\\"https://yinshi-1309445959.cos.ap-beijing.myqcloud.com/yinshi-1309445959/6b23262332274e42de99413a83601a4be7e8ea9c8c0d02081ad97fbfee2c677e.jpg\\\",\\\"https://yinshi-1309445959.cos.ap-beijing.myqcloud.com/yinshi-1309445959/d4cf40c593cad9895a060d093a53c639ced04ece1a9cffab673d2987f601cc43.jpg\\\",\\\"https://yinshi-1309445959.cos.ap-beijing.myqcloud.com/yinshi-1309445959/f29eb9854efe0822d30a54d6dda4f6f4a54cf65f22565fca24e25de75165036a.jpg\\\"]\", \"sort\": 0, \"status\": 1, \"spec_type\": 0, \"price\": 25900, \"market_price\": 22000, \"cost_price\": 24000, \"stock\": 74, \"delivery_types\": \"2\", \"delivery_template_id\": null, \"give_integral\": 0, \"sub_commission_type\": 0, \"sales_count\": 0, \"virtual_sales_count\": 0, \"browse_count\": 0, \"create_time\": \"2024-06-27 20:54:44\", \"update_time\": \"2024-06-27 20:54:44\", \"creator\": \"1\", \"updater\": \"1\", \"deleted\": 0, \"tenant_id\": 1, \"sku_properties\": \"[{\\\"price\\\": 25900, \\\"stock\\\": 74, \\\"weight\\\": 15.0, \\\"properties\\\": \\\"[{\\\\\\\"propertyId\\\\\\\":0,\\\\\\\"propertyName\\\\\\\":\\\\\\\"默认\\\\\\\",\\\\\\\"valueId\\\\\\\":0,\\\\\\\"valueName\\\\\\\":\\\\\\\"默认\\\\\\\"}]\\\", \\\"propertyId\\\": 47, \\\"propertyName\\\": \\\"SKU属性\\\"}]\"}\n",
      "--------------\n",
      "检索到的第1个内容: \n",
      "{\"spu_id\": 657, \"name\": \"足银999碎冰冰三面纯银手镯实心闭口手镯520礼物送女朋友\", \"keyword\": \"碎冰冰\", \"introduction\": \"碎冰冰\", \"description\": \"<p>详情</p>\", \"category_id\": 84, \"brand_id\": 4, \"pic_url\": \"https://yinshi-1309445959.cos.ap-beijing.myqcloud.com/yinshi-1309445959/b685f541dd19742beb2e3dc014ffc41d14e2771023424d85b9b0510393fa01ec.jpg\", \"slider_pic_urls\": \"[\\\"https://yinshi-1309445959.cos.ap-beijing.myqcloud.com/yinshi-1309445959/afd1e3528fe085cd4a2598324f5021ef67ee1d0f74fcab3b6e07e7a88a8c1b00.jpg\\\"]\", \"sort\": 0, \"status\": 1, \"spec_type\": 1, \"price\": 25900, \"market_price\": 25900, \"cost_price\": 25900, \"stock\": 167, \"delivery_types\": \"2\", \"delivery_template_id\": null, \"give_integral\": 0, \"sub_commission_type\": 0, \"sales_count\": 0, \"virtual_sales_count\": 0, \"browse_count\": 0, \"create_time\": \"2024-06-27 21:28:59\", \"update_time\": \"2024-06-27 21:28:59\", \"creator\": \"1\", \"updater\": \"1\", \"deleted\": 0, \"tenant_id\": 1, \"sku_properties\": \"[{\\\"price\\\": 25900, \\\"stock\\\": 13, \\\"weight\\\": 19.0, \\\"properties\\\": \\\"[{\\\\\\\"propertyId\\\\\\\":14,\\\\\\\"propertyName\\\\\\\":\\\\\\\"圈口\\\\\\\",\\\\\\\"valueId\\\\\\\":34,\\\\\\\"valueName\\\\\\\":\\\\\\\"52圈口\\\\\\\"}]\\\", \\\"propertyId\\\": 58, \\\"propertyName\\\": \\\"SKU属性\\\"}, {\\\"price\\\": 26000, \\\"stock\\\": 74, \\\"weight\\\": 21.0, \\\"properties\\\": \\\"[{\\\\\\\"propertyId\\\\\\\":14,\\\\\\\"propertyName\\\\\\\":\\\\\\\"圈口\\\\\\\",\\\\\\\"valueId\\\\\\\":33,\\\\\\\"valueName\\\\\\\":\\\\\\\"54圈口\\\\\\\"}]\\\", \\\"propertyId\\\": 59, \\\"propertyName\\\": \\\"SKU属性\\\"}, {\\\"price\\\": 26100, \\\"stock\\\": 22, \\\"weight\\\": 22.0, \\\"properties\\\": \\\"[{\\\\\\\"propertyId\\\\\\\":14,\\\\\\\"propertyName\\\\\\\":\\\\\\\"圈口\\\\\\\",\\\\\\\"valueId\\\\\\\":30,\\\\\\\"valueName\\\\\\\":\\\\\\\"56圈口\\\\\\\"}]\\\", \\\"propertyId\\\": 60, \\\"propertyName\\\": \\\"SKU属性\\\"}, {\\\"price\\\": 26200, \\\"stock\\\": 26, \\\"weight\\\": 23.0, \\\"properties\\\": \\\"[{\\\\\\\"propertyId\\\\\\\":14,\\\\\\\"propertyName\\\\\\\":\\\\\\\"圈口\\\\\\\",\\\\\\\"valueId\\\\\\\":31,\\\\\\\"valueName\\\\\\\":\\\\\\\"58圈口\\\\\\\"}]\\\", \\\"propertyId\\\": 61, \\\"propertyName\\\": \\\"SKU属性\\\"}, {\\\"price\\\": 26300, \\\"stock\\\": 32, \\\"weight\\\": 24.0, \\\"properties\\\": \\\"[{\\\\\\\"propertyId\\\\\\\":14,\\\\\\\"propertyName\\\\\\\":\\\\\\\"圈口\\\\\\\",\\\\\\\"valueId\\\\\\\":32,\\\\\\\"valueName\\\\\\\":\\\\\\\"60圈口\\\\\\\"}]\\\", \\\"propertyId\\\": 62, \\\"propertyName\\\": \\\"SKU属性\\\"}]\"}\n",
      "--------------\n",
      "检索到的第2个内容: \n",
      "{\"spu_id\": 640, \"name\": \"足银9999描金海棠花银手镯开口实心纯银手镯古风新中式520礼物\", \"keyword\": \"手镯、闭口手镯、足银9999\", \"introduction\": \"新中式风格，送女朋友\", \"description\": \"<p>手镯手镯手镯</p>\", \"category_id\": 84, \"brand_id\": 4, \"pic_url\": \"https://yinshi-1309445959.cos.ap-beijing.myqcloud.com/yinshi-1309445959/151d5ce2e46d364effcebd407e7eb95075e2d289516f722e7b9b3946cfef53d8.png\", \"slider_pic_urls\": \"[\\\"https://yinshi-1309445959.cos.ap-beijing.myqcloud.com/yinshi-1309445959/8e9d9e96520f21e25b4ac730bc5e6c62e1d36f0e26c31a87685c18bce58c4498.jpg\\\",\\\"https://yinshi-1309445959.cos.ap-beijing.myqcloud.com/yinshi-1309445959/06e8b168cab5b48336ca29253c8e6cecad5e0ad8baacb2a98a9a5365136b9804.jpg\\\",\\\"https://yinshi-1309445959.cos.ap-beijing.myqcloud.com/yinshi-1309445959/3dbf47a546bc3665953519a2611c17daf2f3192ab3b16fd62ace20b993521c42.jpg\\\",\\\"https://yinshi-1309445959.cos.ap-beijing.myqcloud.com/yinshi-1309445959/d8656c5219a89a57d1d88e2838d7a48aa451f7eb993acb29ffcc79a5b377ef6c.jpg\\\",\\\"https://yinshi-1309445959.cos.ap-beijing.myqcloud.com/yinshi-1309445959/d37c09daf32cdb9ddd0f9d4673f415b6440bb5e46f9c15065b84cc97bc9ad035.jpg\\\"]\", \"sort\": 0, \"status\": 1, \"spec_type\": 0, \"price\": 49600, \"market_price\": 20000, \"cost_price\": 20000, \"stock\": 10, \"delivery_types\": \"2\", \"delivery_template_id\": null, \"give_integral\": 0, \"sub_commission_type\": 0, \"sales_count\": 0, \"virtual_sales_count\": 0, \"browse_count\": 0, \"create_time\": \"2024-06-27 18:25:29\", \"update_time\": \"2024-06-27 20:01:40\", \"creator\": \"1\", \"updater\": \"1\", \"deleted\": 0, \"tenant_id\": 1, \"sku_properties\": \"[{\\\"price\\\": 49600, \\\"stock\\\": 10, \\\"weight\\\": 30.0, \\\"properties\\\": \\\"[{\\\\\\\"propertyId\\\\\\\":0,\\\\\\\"propertyName\\\\\\\":\\\\\\\"默认\\\\\\\",\\\\\\\"valueId\\\\\\\":0,\\\\\\\"valueName\\\\\\\":\\\\\\\"默认\\\\\\\"}]\\\", \\\"propertyId\\\": 30, \\\"propertyName\\\": \\\"SKU属性\\\"}]\"}\n",
      "--------------\n"
     ]
    }
   ],
   "source": [
    "# 普通检索\n",
    "question=\"女朋友带哪个？\"\n",
    "sim_text = vectordb.similarity_search(question,k=3)\n",
    "print(f\"检索到的内容数：{len(sim_text)}\")\n",
    "for i, sim_doc in enumerate(sim_text):\n",
    "    print(f\"检索到的第{i}个内容: \\n{sim_doc.page_content}\", end=\"\\n--------------\\n\")"
   ]
  },
  {
   "cell_type": "markdown",
   "metadata": {},
   "source": [
    "MMR检索\n",
    "如果只考虑检索出内容的相关性会导致内容过于单一，可能丢失重要信息。\n",
    "最大边际相关性 (MMR, Maximum marginal relevance) 可以帮助我们在保持相关性的同时，增加内容的丰富度。\n",
    "核心思想是在已经选择了一个相关性高的文档之后，再选择一个与已选文档相关性较低但是信息丰富的文档。这样可以在保持相关性的同时，增加内容的多样性，避免过于单一的结果。\n"
   ]
  },
  {
   "cell_type": "code",
   "execution_count": 8,
   "metadata": {},
   "outputs": [
    {
     "name": "stderr",
     "output_type": "stream",
     "text": [
      "Number of requested results 20 is greater than number of elements in index 19, updating n_results = 19\n"
     ]
    },
    {
     "name": "stdout",
     "output_type": "stream",
     "text": [
      "MMR 检索到的第0个内容: \n",
      "{\"spu_id\": 651, \"name\": \"足银999银手镯女捕梦网手镯手环银镯子高级感送闺蜜送女朋友19克\", \"keyword\": \"捕梦网\", \"introduction\": \"捕梦网\", \"description\": \"<p>详情</p>\", \"category_id\": 84, \"brand_id\": 4, \"pic_url\": \"https://yinshi-1309445959.cos.ap-beijing.myqcloud.com/yinshi-1309445959/f29eb9854efe0822d30a54d6dda4f6f4a54cf65f22565fca24e25de75165036a.jpg\", \"slider_pic_urls\": \"[\\\"https://yinshi-1309445959.cos.ap-beijing.myqcloud.com/yinshi-1309445959/6b23262332274e42de99413a83601a4be7e8ea9c8c0d02081ad97fbfee2c677e.jpg\\\",\\\"https://yinshi-1309445959.cos.ap-beijing.myqcloud.com/yinshi-1309445959/d4cf40c593cad9895a060d093a53c639ced04ece1a9cffab673d2987f601cc43.jpg\\\",\\\"https://yinshi-1309445959.cos.ap-beijing.myqcloud.com/yinshi-1309445959/f29eb9854efe0822d30a54d6dda4f6f4a54cf65f22565fca24e25de75165036a.jpg\\\"]\", \"sort\": 0, \"status\": 1, \"spec_type\": 0, \"price\": 25900, \"market_price\": 22000, \"cost_price\": 24000, \"stock\": 74, \"delivery_types\": \"2\", \"delivery_template_id\": null, \"give_integral\": 0, \"sub_commission_type\": 0, \"sales_count\": 0, \"virtual_sales_count\": 0, \"browse_count\": 0, \"create_time\": \"2024-06-27 20:54:44\", \"update_time\": \"2024-06-27 20:54:44\", \"creator\": \"1\", \"updater\": \"1\", \"deleted\": 0, \"tenant_id\": 1, \"sku_properties\": \"[{\\\"price\\\": 25900, \\\"stock\\\": 74, \\\"weight\\\": 15.0, \\\"properties\\\": \\\"[{\\\\\\\"propertyId\\\\\\\":0,\\\\\\\"propertyName\\\\\\\":\\\\\\\"默认\\\\\\\",\\\\\\\"valueId\\\\\\\":0,\\\\\\\"valueName\\\\\\\":\\\\\\\"默认\\\\\\\"}]\\\", \\\"propertyId\\\": 47, \\\"propertyName\\\": \\\"SKU属性\\\"}]\"}\n",
      "--------------\n",
      "MMR 检索到的第1个内容: \n",
      "{\"spu_id\": 648, \"name\": \"繁花似锦银手镯女纯银9999足银镯子菡萏叮当镯银饰520礼物送女友\", \"keyword\": \"繁花似锦、推拉\", \"introduction\": \"繁花似锦、推拉\", \"description\": \"<p>商品详情</p>\", \"category_id\": 84, \"brand_id\": 4, \"pic_url\": \"https://yinshi-1309445959.cos.ap-beijing.myqcloud.com/yinshi-1309445959/52877ffff30ee3716fb65ed9d09e783d7decde3348be42b84ba5480c3c1e0fdd.jpg\", \"slider_pic_urls\": \"[\\\"https://yinshi-1309445959.cos.ap-beijing.myqcloud.com/yinshi-1309445959/52877ffff30ee3716fb65ed9d09e783d7decde3348be42b84ba5480c3c1e0fdd.jpg\\\",\\\"https://yinshi-1309445959.cos.ap-beijing.myqcloud.com/yinshi-1309445959/83b4e706a452f6350601ba4bed86c6ce9784e783d3b5f0b5f959b2e52cc154c0.jpg\\\",\\\"https://yinshi-1309445959.cos.ap-beijing.myqcloud.com/yinshi-1309445959/8a72176de15e47492f537e52d8a0ed510d7dcec4042a76628885f03c7ddfc638.jpg\\\",\\\"https://yinshi-1309445959.cos.ap-beijing.myqcloud.com/yinshi-1309445959/d1c3098ad2e50f53d3067347a8493958b65fecd99be4da3e1258a27525442cb3.jpg\\\"]\", \"sort\": 0, \"status\": 1, \"spec_type\": 0, \"price\": 34900, \"market_price\": 32400, \"cost_price\": 12300, \"stock\": 87, \"delivery_types\": \"2\", \"delivery_template_id\": null, \"give_integral\": 0, \"sub_commission_type\": 0, \"sales_count\": 0, \"virtual_sales_count\": 0, \"browse_count\": 0, \"create_time\": \"2024-06-27 20:10:16\", \"update_time\": \"2024-06-27 20:10:16\", \"creator\": \"1\", \"updater\": \"1\", \"deleted\": 0, \"tenant_id\": 1, \"sku_properties\": \"[{\\\"price\\\": 34900, \\\"stock\\\": 87, \\\"weight\\\": 30.0, \\\"properties\\\": \\\"[{\\\\\\\"propertyId\\\\\\\":0,\\\\\\\"propertyName\\\\\\\":\\\\\\\"默认\\\\\\\",\\\\\\\"valueId\\\\\\\":0,\\\\\\\"valueName\\\\\\\":\\\\\\\"默认\\\\\\\"}]\\\", \\\"propertyId\\\": 44, \\\"propertyName\\\": \\\"SKU属性\\\"}]\"}\n",
      "--------------\n",
      "MMR 检索到的第2个内容: \n",
      "{\"spu_id\": 656, \"name\": \"足银新中式国风纯银铃兰花蝴蝶流苏吊坠编绳项链高级感锁骨链\", \"keyword\": \"铃兰花、蝴蝶、流苏、编绳、锁骨链\", \"introduction\": \"铃兰花、蝴蝶、流苏、编绳、锁骨链\", \"description\": \"<p>详情</p>\", \"category_id\": 87, \"brand_id\": 4, \"pic_url\": \"https://yinshi-1309445959.cos.ap-beijing.myqcloud.com/yinshi-1309445959/a3bc2ea014f1c41f4c29a26bd7687389f834171a4a119d54452335d4249604cc.jpg\", \"slider_pic_urls\": \"[\\\"https://yinshi-1309445959.cos.ap-beijing.myqcloud.com/yinshi-1309445959/6e63fe5614f26384e3ff85f39f380c8983fd6ffa52266a1600b2c4b55aeb1f86.jpg\\\",\\\"https://yinshi-1309445959.cos.ap-beijing.myqcloud.com/yinshi-1309445959/462ccc4d98828e7b9ff8c846fb4b1c0f36ec3353962a1ed4864f02183c108d2e.jpg\\\"]\", \"sort\": 0, \"status\": 1, \"spec_type\": 0, \"price\": 13900, \"market_price\": 13900, \"cost_price\": 10000, \"stock\": 85, \"delivery_types\": \"2\", \"delivery_template_id\": null, \"give_integral\": 0, \"sub_commission_type\": 0, \"sales_count\": 0, \"virtual_sales_count\": 0, \"browse_count\": 0, \"create_time\": \"2024-06-27 21:24:36\", \"update_time\": \"2024-06-27 21:24:36\", \"creator\": \"1\", \"updater\": \"1\", \"deleted\": 0, \"tenant_id\": 1, \"sku_properties\": \"[{\\\"price\\\": 13900, \\\"stock\\\": 85, \\\"weight\\\": 0.0, \\\"properties\\\": \\\"[{\\\\\\\"propertyId\\\\\\\":0,\\\\\\\"propertyName\\\\\\\":\\\\\\\"默认\\\\\\\",\\\\\\\"valueId\\\\\\\":0,\\\\\\\"valueName\\\\\\\":\\\\\\\"默认\\\\\\\"}]\\\", \\\"propertyId\\\": 57, \\\"propertyName\\\": \\\"SKU属性\\\"}]\"}\n",
      "--------------\n"
     ]
    }
   ],
   "source": [
    "mmr_text = vectordb.max_marginal_relevance_search(question,k=3)\n",
    "for i, sim_doc in enumerate(mmr_text):\n",
    "    print(f\"MMR 检索到的第{i}个内容: \\n{sim_doc.page_content}\", end=\"\\n--------------\\n\")"
   ]
  },
  {
   "cell_type": "markdown",
   "metadata": {},
   "source": [
    "### 1.3 生成"
   ]
  },
  {
   "cell_type": "code",
   "execution_count": 9,
   "metadata": {},
   "outputs": [
    {
     "name": "stdout",
     "output_type": "stream",
     "text": [
      "向量库中存储的数量：19\n"
     ]
    }
   ],
   "source": [
    "from zhipuai_embedding import ZhipuAIEmbeddings\n",
    "\n",
    "from langchain.vectorstores.chroma import Chroma\n",
    "# 定义 Embeddings\n",
    "embedding = ZhipuAIEmbeddings()\n",
    "\n",
    "\n",
    "# 定义持久化路径\n",
    "persist_directory = './data_base/chroma'\n",
    "\n",
    "# 加载数据库\n",
    "vectordb = Chroma(\n",
    "    persist_directory=persist_directory,  # 允许我们将persist_directory目录保存到磁盘上\n",
    "    embedding_function=embedding\n",
    ")\n",
    "print(f\"向量库中存储的数量：{vectordb._collection.count()}\")"
   ]
  },
  {
   "cell_type": "code",
   "execution_count": 11,
   "metadata": {},
   "outputs": [
    {
     "data": {
      "text/plain": [
       "AIMessage(content='你好，我是一个人工智能助手，基于清华大学 KEG 实验室与智谱 AI 于 2023 年共同训练的语言模型 GLM2 开发而成。我的任务是针对用户的问题和要求提供适当的答复和支持。我可以通过分析大量文本数据来学习和理解自然语言，从而与人类进行有效的沟通。请随时向我提出问题或请求帮助，我会尽我所能为您提供服务。', response_metadata={'token_usage': {'completion_tokens': 82, 'prompt_tokens': 10, 'total_tokens': 92}, 'model_name': 'glm-4', 'finish_reason': 'stop'}, id='run-87b70a23-91a5-468e-a442-82c9553fd1c3-0')"
      ]
     },
     "execution_count": 11,
     "metadata": {},
     "output_type": "execute_result"
    }
   ],
   "source": [
    "from langchain_community.chat_models import ChatZhipuAI\n",
    "from langchain_core.messages import AIMessage, HumanMessage, SystemMessage\n",
    "import os\n",
    "\n",
    "from langchain_community.chat_models import ChatZhipuAI\n",
    "ZHIPUAI_API_KEY = os.environ[\"ZHIPUAI_API_KEY\"]\n",
    "llm = ChatZhipuAI(\n",
    "    model=\"glm-4\",\n",
    "    temperature=0.5,\n",
    ")\n",
    "llm.invoke(\"请你自我介绍一下自己！\")"
   ]
  },
  {
   "cell_type": "code",
   "execution_count": 3,
   "metadata": {},
   "outputs": [
    {
     "name": "stdout",
     "output_type": "stream",
     "text": [
      "text='你是一个杰出的优秀银饰客服，称呼其他人为姐姐或者小哥哥，根据，礼貌热情地进行推荐和回答。\\n使用以下上下文作为你可能推荐的饰品，放在<context></context>\\xa0XML标签内。\\n<context>\\n1. 【足银999.9古法莫比乌斯扭纹纯银手镯开口小众款】这款手镯的设计灵感来源于莫比乌斯环，象征着无限的爱与永恒，开口设计方便佩戴，非常适合追求独特个性的女朋友。价格：27900元\\n</context>\\n当回答用户时：\\n你应该根据给出的内容进行回答，主要目的是推荐<context></context>中的银饰产品，给出关于该饰品有价值的回答，尽量促成用户购买。\\n问题: 推荐几款适合女朋友带的银饰\\n'\n"
     ]
    }
   ],
   "source": [
    "from langchain_core.tracers import langchain\n",
    "from langchain.prompts import PromptTemplate\n",
    "\n",
    "template = \"\"\"你是一个杰出的优秀银饰客服，称呼其他人为姐姐或者小哥哥，根据，礼貌热情地进行推荐和回答。\n",
    "使用以下上下文作为你可能推荐的饰品，放在<context></context> XML标签内。\n",
    "<context>\n",
    "{context}\n",
    "</context>\n",
    "当回答用户时：\n",
    "你应该根据给出的内容进行回答，主要目的是推荐<context></context>中的银饰产品，给出关于该饰品有价值的回答，尽量促成用户购买。\n",
    "问题: {question}\n",
    "\"\"\"\n",
    "\n",
    "QA_CHAIN_PROMPT = PromptTemplate(input_variables=[\"context\",\"question\"],\n",
    "                                 template=template)\n",
    "\n",
    "question_1 = \"推荐几款适合女朋友带的银饰\"\n",
    "an = QA_CHAIN_PROMPT.invoke({\"question\":question_1,\"context\":\"1. 【足银999.9古法莫比乌斯扭纹纯银手镯开口小众款】这款手镯的设计灵感来源于莫比乌斯环，象征着无限的爱与永恒，开口设计方便佩戴，非常适合追求独特个性的女朋友。价格：27900元\"})\n",
    "\n",
    "# from langchain.chains import RetrievalQA\n",
    "# langchain.debug = True\n",
    "# qa_chain = RetrievalQA.from_chain_type(llm,\n",
    "#                                        retriever=vectordb.as_retriever(),\n",
    "#                                        return_source_documents=True,\n",
    "#                                        chain_type_kwargs={\"prompt\":QA_CHAIN_PROMPT})\n",
    "\n",
    "\n",
    "# from langchain_core.prompts import PromptTemplate\n",
    "\n",
    "# prompt_template = PromptTemplate.from_template(\"Tell me a joke about {topic}\")\n",
    "\n",
    "# prompt_template.invoke({\"topic\": \"cats\"})\n",
    "print(an)"
   ]
  },
  {
   "cell_type": "code",
   "execution_count": 13,
   "metadata": {},
   "outputs": [
    {
     "name": "stderr",
     "output_type": "stream",
     "text": [
      "h:\\exploit_python\\environment\\anaconda\\envs\\sml\\lib\\site-packages\\langchain_core\\_api\\deprecation.py:119: LangChainDeprecationWarning: The method `Chain.__call__` was deprecated in langchain 0.1.0 and will be removed in 0.3.0. Use invoke instead.\n",
      "  warn_deprecated(\n"
     ]
    },
    {
     "name": "stdout",
     "output_type": "stream",
     "text": [
      "大模型+知识库后回答 question_1 的结果：\n",
      "亲爱的姐姐/小哥哥，您好呀！给女朋友挑选银饰的话，我们这里有几款特别受欢迎的纯银手镯，不仅设计独特，而且每款都有其独特的寓意，非常适合作为礼物哦：\n",
      "\n",
      "1. 【足银999.9古法莫比乌斯扭纹纯银手镯开口小众款】\n",
      "   - 这款手镯的设计灵感来源于莫比乌斯环，象征着无限的爱与永恒，开口设计方便佩戴，非常适合追求独特个性的女朋友。\n",
      "   - 价格：27900元\n",
      "   - ![足银999.9古法莫比乌斯扭纹纯银手镯开口小众款](https://yinshi-1309445959.cos.ap-beijing.myqcloud.com/yinshi-1309445959/5cd34aabc2416065ae9a67502f453fc69f5d34d0a9324f9d583d073e5d5d2b7e.jpg)\n",
      "\n",
      "2. 【足银999.9实心唐草纹描金纯银手镯闭口女款】\n",
      "   - 唐草纹是中国传统图案，寓意着生机勃勃，描金工艺让手镯更显高贵气质，闭口设计适合不喜欢开口款式的女朋友。\n",
      "   - 价格：32900元\n",
      "   - ![足银999.9实心唐草纹描金纯银手镯闭口女款](https://yinshi-1309445959.cos.ap-beijing.myqcloud.com/yinshi-1309445959/c0ee05b5ede9e4bfcea9eb3aee19c90b68428135a27e3c71274e684bfd94079e.jpg)\n",
      "\n",
      "3. 【足银999.9古法珐琅彩兰花纯银手镯开口小众款】\n",
      "   - 珐琅彩兰花设计，不仅美观大方，而且兰花象征着高洁和爱情，是表达爱意的绝佳选择。\n",
      "   - 价格：36900元\n",
      "   - ![足银999.9古法珐琅彩兰花纯银手镯开口小众款](https://yinshi-1309445959.cos.ap-beijing.myqcloud.com/yinshi-1309445959/b1177d19112d909ac2725bbad6f212ecfe3eeffe7bb4d1892536e4138f946941.jpg)\n",
      "\n",
      "4. 【足银9999描金海棠花银手镯开口实心纯银手镯古风新中式】\n",
      "   - 海棠花寓意着美丽和爱情，古风新中式的风格适合喜欢传统文化氛围的女朋友。\n",
      "   - 价格：49600元\n",
      "   - ![足银9999描金海棠花银手镯开口实心纯银手镯古风新中式](https://yinshi-1309445959.cos.ap-beijing.myqcloud.com/yinshi-1309445959/151d5ce2e46d364effcebd407e7eb95075e2d289516f722e7b9b3946cfef53d8.png)\n",
      "\n",
      "每款手镯都是足银999以上，质量上乘，而且寓意美好，非常适合作为送给女朋友的礼物。如果您有其他的需求或者想要了解更多的产品信息，请随时告诉我，我会尽力为您提供帮助的！\n",
      "大模型+知识库后回答 question_2 的结果：\n",
      "亲爱的姐姐，中秋节给母亲选购银饰作为礼物真是太有心了，银饰不仅美观大方，还寓意吉祥如意，非常适合作为节日礼物。根据您的需求，我为您推荐以下几款适合母亲的银饰：\n",
      "\n",
      "1. 【足银999.9实心唐草纹描金纯银手镯闭口女款】\n",
      "   - 这款手镯采用唐草纹设计，寓意生机勃勃，搭配描金工艺，更显高贵气质。闭口设计更适合长辈的佩戴习惯，分量感十足，非常适合母亲大人。\n",
      "   - ![唐草纹手镯](https://yinshi-1309445959.cos.ap-beijing.myqcloud.com/yinshi-1309445959/c0ee05b5ede9e4bfcea9eb3aee19c90b68428135a27e3c71274e684bfd94079e.jpg)\n",
      "\n",
      "2. 【足银999.9古法珐琅彩兰花纯银手镯开口小众款】\n",
      "   - 这款手镯以兰花为主题，珐琅彩工艺使得兰花栩栩如生，古法制作更显传统文化韵味。开口设计方便母亲根据手腕大小调节，既实用又美观。\n",
      "   - ![珐琅彩兰花手镯](https://yinshi-1309445959.cos.ap-beijing.myqcloud.com/yinshi-1309445959/b1177d19112d909ac2725bbad6f212ecfe3eeffe7bb4d1892536e4138f946941.jpg)\n",
      "\n",
      "两款手镯都是足银999.9，品质上乘，寓意美好，非常适合作为中秋节的礼物。如果您有其他喜好或者需要了解更多的产品信息，请随时告诉我，我会竭诚为您服务。希望您能为母亲挑选到称心如意的礼物！\n"
     ]
    }
   ],
   "source": [
    "question_1 = \"推荐几款适合女朋友带的银饰\"\n",
    "question_2 = \"中秋节想给母亲买个银饰有什么推荐嘛？\"\n",
    "\n",
    "result = qa_chain({\"query\": question_1})\n",
    "print(\"大模型+知识库后回答 question_1 的结果：\")\n",
    "print(result[\"result\"])\n",
    "result = qa_chain({\"query\": question_2})\n",
    "print(\"大模型+知识库后回答 question_2 的结果：\")\n",
    "print(result[\"result\"])\n"
   ]
  },
  {
   "cell_type": "code",
   "execution_count": 15,
   "metadata": {},
   "outputs": [
    {
     "name": "stdout",
     "output_type": "stream",
     "text": [
      "content='适合女朋友的银饰有很多种，根据不同的风格和场合，以下是一些建议：\\n\\n1. 简约银项链\\n   - 简约的银项链适合各种场合，既可以搭配日常装扮，也可以搭配晚宴服装。可以选择一个细小的银链条，搭配一个小小的吊坠，如心形、星星或月亮等。\\n\\n2. 银手链\\n   - 银手链是一个时尚且实用的选择。可以挑选一个带有装饰性元素的银手链，如小珠子、小十字架或心形挂饰。\\n\\n   - 流苏银手链也很受欢迎，它们具有优雅的动感。\\n\\n3. 银耳环\\n   - 如果女朋友喜欢戴耳环，可以选择一对简约的银耳钉或小巧的银圈耳环。流苏耳环或几何形状的耳环也是不错的选择。\\n\\n   - 小巧的钻石或宝石镶嵌在银耳环上，也能增添一份优雅与华丽。\\n\\n4. 银戒指\\n   - 一个简约的银戒指可以作为一个日常配饰。可以选择一个平滑的银圈戒指或带有小装饰的戒指，如小钻石、珍珠或宝石。\\n\\n5. 定制银饰\\n   - 如果你想要更加个性化，可以考虑定制银饰。可以根据女朋友的喜好或两人的共同回忆，定制一个独一无二的银饰，如刻上特殊日期、名字或两人的生肖等。\\n\\n在选择银饰时，注意以下几点：\\n- 确保银饰标有925或sterling silver，这表示银饰是纯度为92.5%的银。\\n- 考虑女朋友的喜好和风格，选择她会喜欢并经常佩戴的款式。\\n- 注意银饰的保养，避免与硬物碰撞或接触汗水、化学品等，以保持银饰的光泽。\\n\\n希望这些建议能帮助你为女朋友挑选到一款合适的银饰！' response_metadata={'token_usage': {'completion_tokens': 394, 'prompt_tokens': 21, 'total_tokens': 415}, 'model_name': 'glm-4', 'finish_reason': 'stop'} id='run-680e127b-38e1-49ef-a3fb-3e8909f2af88-0'\n",
      "content='中秋节是一个传统的节日，送银饰给母亲作为礼物是个非常贴心的选择，既体现了孝心也具有美好的寓意。以下是一些建议：\\n\\n1. **银项链**：可以选择带有福字或者平安扣的银项链，这些传统图案寓意着健康和平安。\\n\\n2. **银手镯**：银手镯是经典的银饰礼物，可以选择雕刻有牡丹、莲花等吉祥图案的手镯，象征着富贵和吉祥。\\n\\n3. **银耳环**：如果母亲喜欢戴耳环，可以选择银耳钉或者银耳环，简单的款式既大方又不易过时。\\n\\n4. **银戒指**：挑选一些设计简约大方的银戒指，可以是素圈或者带有宝石的款式，既适合日常佩戴也具有装饰性。\\n\\n5. **银挂件**：比如观音、佛祖等传统宗教形象的挂件，这些在传统文化中都有保佑平安的寓意。\\n\\n在选择时，可以考虑以下几点：\\n\\n- **个人喜好**：了解母亲平时的穿着风格和饰品偏好，选择她会喜欢的款式。\\n- **质量认证**：购买时注意查看是否有相关的质量认证，确保银饰的真伪。\\n- **品牌选择**：选择一些知名品牌的银饰，品质和售后服务相对更有保障。\\n- **寓意吉祥**：尽量选择那些有吉祥寓意的图案，比如福、寿、喜等，更符合节日送礼的氛围。\\n\\n最后，不妨将这份礼物包装得精美一些，附上一张贺卡，写上对母亲的祝福和感激之情，相信会是一份非常温馨的礼物。' response_metadata={'token_usage': {'completion_tokens': 328, 'prompt_tokens': 24, 'total_tokens': 352}, 'model_name': 'glm-4', 'finish_reason': 'stop'} id='run-99227292-4ec1-4e62-9e91-5e5c1cd64977-0'\n"
     ]
    }
   ],
   "source": [
    "prompt_template = \"\"\"请回答下列问题:\n",
    "                            {}\"\"\".format(question_1)\n",
    "\n",
    "### 基于大模型的问答\n",
    "text_1 = llm.invoke(prompt_template)\n",
    "\n",
    "prompt_template = \"\"\"请回答下列问题:\n",
    "                            {}\"\"\".format(question_2)\n",
    "\n",
    "### 基于大模型的问答\n",
    "text_2 = llm.invoke(prompt_template)\n",
    "\n",
    "print(text_1)\n",
    "print(text_2)"
   ]
  },
  {
   "cell_type": "markdown",
   "metadata": {},
   "source": [
    "### 1.4 多轮对话（记忆模式）\n",
    "使用 ConversationBufferMemory ，它保存聊天消息历史记录的列表，这些历史记录将在回答问题时与问题一起传递给聊天机器人，从而将它们添加到上下文中。"
   ]
  },
  {
   "cell_type": "code",
   "execution_count": 4,
   "metadata": {},
   "outputs": [
    {
     "name": "stderr",
     "output_type": "stream",
     "text": [
      "h:\\exploit_python\\environment\\anaconda\\envs\\sml\\lib\\site-packages\\langchain_core\\_api\\deprecation.py:119: LangChainDeprecationWarning: The method `Chain.__call__` was deprecated in langchain 0.1.0 and will be removed in 0.3.0. Use invoke instead.\n",
      "  warn_deprecated(\n"
     ]
    },
    {
     "name": "stdout",
     "output_type": "stream",
     "text": [
      "根据提供的信息，以下是几款适合作为女朋友礼物的手镯推荐：\n",
      "\n",
      "1. **足银999.9古法珐琅彩兰花纯银手镯开口小众款**\n",
      "   - 价格：36900元\n",
      "   - 特色：珐琅彩、古法工艺、兰花图案\n",
      "   - ![足银999.9古法珐琅彩兰花纯银手镯](https://yinshi-1309445959.cos.ap-beijing.myqcloud.com/yinshi-1309445959/b1177d19112d909ac2725bbad6f212ecfe3eeffe7bb4d1892536e4138f946941.jpg)\n",
      "\n",
      "2. **足银999碎冰冰三面纯银手镯实心闭口手镯**\n",
      "   - 价格：25900元\n",
      "   - 特色：碎冰冰设计，实心闭口\n",
      "   - ![足银999碎冰冰三面纯银手镯](https://yinshi-1309445959.cos.ap-beijing.myqcloud.com/yinshi-1309445959/b685f541dd19742beb2e3dc014ffc41d14e2771023424d85b9b0510393fa01ec.jpg)\n",
      "\n",
      "3. **繁花似锦银手镯女纯银9999足银镯子**\n",
      "   - 价格：34900元\n",
      "   - 特色：繁花似锦图案，推拉设计\n",
      "   - ![繁花似锦银手镯女纯银9999足银镯子](https://yinshi-1309445959.cos.ap-beijing.myqcloud.com/yinshi-1309445959/52877ffff30ee3716fb65ed9d09e783d7decde3348be42b84ba5480c3c1e0fdd.jpg)\n",
      "\n",
      "4. **足银999.9古法莫比乌斯扭纹纯银手镯开口小众款**\n",
      "   - 价格：27900元\n",
      "   - 特色：莫比乌斯扭纹，开口设计\n",
      "   - ![足银999.9古法莫比乌斯扭纹纯银手镯](https://yinshi-1309445959.cos.ap-beijing.myqcloud.com/yinshi-1309445959/5cd34aabc2416065ae9a67502f453fc69f5d34d0a9324f9d583d073e5d5d2b7e.jpg)\n",
      "\n",
      "以上手镯都是纯银制品，具有精美的设计和一定的文化内涵，非常适合作为礼物送给女朋友。您可以根据女朋友的喜好和预算选择最合适的一款。\n",
      "这款足银999碎冰冰三面纯银手镯的特点和信息如下：\n",
      "\n",
      "1. 材质：该手镯采用足银999（即银的纯度为99.9%）材质制作，保证了手镯的纯净度和质量。\n",
      "\n",
      "2. 设计：手镯的设计灵感来源于碎冰冰，三面纯银的设计使得手镯具有独特的立体感和美观度。\n",
      "\n",
      "3. 实心闭口：这款手镯为实心闭口结构，相较于开口手镯，更加稳固且不易变形。\n",
      "\n",
      "4. 圈口尺寸：提供多种圈口尺寸供消费者选择，包括52圈口、54圈口、56圈口、58圈口和60圈口，以满足不同消费者的需求。\n",
      "\n",
      "5. 重量：根据不同圈口尺寸，手镯的重量在19.0克至24.0克之间。\n",
      "\n",
      "6. 价格：该手镯的价格根据圈口尺寸和重量不同而有所差异，价格范围在25900元至26300元之间。\n",
      "\n",
      "7. 库存：目前该手镯的库存数量为167件，不同圈口尺寸的库存量也有所不同。\n",
      "\n",
      "8. 配送方式：该手镯支持快递配送，具体配送方式和费用请参考购买页面。\n",
      "\n",
      "9. 销售情况：该手镯目前暂无销售记录，新品上架。\n",
      "\n",
      "10. 创建和更新时间：该手镯的商品信息创建时间为2024-06-27 21:28:59，更新时间也为2024-06-27 21:28:59。\n",
      "\n",
      "11. 图片展示：手镯的主图和滑块图展示了产品的外观和细节，消费者可以通过图片直观地了解手镯的特点。\n",
      "\n",
      "总的来说，这款足银999碎冰冰三面纯银手镯具有高纯度、美观独特的设计以及多种圈口尺寸供选择，是一款适合送女朋友或作为其他场合礼物的纯银手镯。\n"
     ]
    }
   ],
   "source": [
    "from langchain.memory import ConversationBufferMemory\n",
    "from langchain_community.chat_models import ChatZhipuAI\n",
    "from langchain_core.messages import AIMessage, HumanMessage, SystemMessage\n",
    "import os\n",
    "\n",
    "memory = ConversationBufferMemory(\n",
    "    memory_key=\"chat_history\",  # 与 prompt 的输入变量保持一致。\n",
    "    return_messages=True  # 将以消息列表的形式返回聊天记录，而不是单个字符串\n",
    ")\n",
    "\n",
    "ZHIPUAI_API_KEY = os.environ[\"ZHIPUAI_API_KEY\"]\n",
    "llm = ChatZhipuAI(\n",
    "    model=\"glm-4\",\n",
    "    temperature=0.5,\n",
    ")\n",
    "\n",
    "from langchain.chains import ConversationalRetrievalChain\n",
    "\n",
    "retriever=vectordb.as_retriever()\n",
    "\n",
    "qa = ConversationalRetrievalChain.from_llm(\n",
    "    llm,\n",
    "    retriever=retriever,\n",
    "    memory=memory\n",
    ")\n",
    "question = \"想给女朋友买一款有什么推荐不\"\n",
    "result = qa({\"question\": question})\n",
    "print(result['answer'])\n",
    "\n",
    "question = \"第二款好像不错，你详细介绍介绍\"\n",
    "result = qa({\"question\": question})\n",
    "print(result['answer'])\n"
   ]
  },
  {
   "cell_type": "code",
   "execution_count": 5,
   "metadata": {},
   "outputs": [
    {
     "data": {
      "text/plain": [
       "{'question': '第二款好像不错，你详细介绍介绍',\n",
       " 'chat_history': [HumanMessage(content='想给女朋友买一款有什么推荐不'),\n",
       "  AIMessage(content='根据提供的信息，以下是几款适合作为女朋友礼物的手镯推荐：\\n\\n1. **足银999.9古法珐琅彩兰花纯银手镯开口小众款**\\n   - 价格：36900元\\n   - 特色：珐琅彩、古法工艺、兰花图案\\n   - ![足银999.9古法珐琅彩兰花纯银手镯](https://yinshi-1309445959.cos.ap-beijing.myqcloud.com/yinshi-1309445959/b1177d19112d909ac2725bbad6f212ecfe3eeffe7bb4d1892536e4138f946941.jpg)\\n\\n2. **足银999碎冰冰三面纯银手镯实心闭口手镯**\\n   - 价格：25900元\\n   - 特色：碎冰冰设计，实心闭口\\n   - ![足银999碎冰冰三面纯银手镯](https://yinshi-1309445959.cos.ap-beijing.myqcloud.com/yinshi-1309445959/b685f541dd19742beb2e3dc014ffc41d14e2771023424d85b9b0510393fa01ec.jpg)\\n\\n3. **繁花似锦银手镯女纯银9999足银镯子**\\n   - 价格：34900元\\n   - 特色：繁花似锦图案，推拉设计\\n   - ![繁花似锦银手镯女纯银9999足银镯子](https://yinshi-1309445959.cos.ap-beijing.myqcloud.com/yinshi-1309445959/52877ffff30ee3716fb65ed9d09e783d7decde3348be42b84ba5480c3c1e0fdd.jpg)\\n\\n4. **足银999.9古法莫比乌斯扭纹纯银手镯开口小众款**\\n   - 价格：27900元\\n   - 特色：莫比乌斯扭纹，开口设计\\n   - ![足银999.9古法莫比乌斯扭纹纯银手镯](https://yinshi-1309445959.cos.ap-beijing.myqcloud.com/yinshi-1309445959/5cd34aabc2416065ae9a67502f453fc69f5d34d0a9324f9d583d073e5d5d2b7e.jpg)\\n\\n以上手镯都是纯银制品，具有精美的设计和一定的文化内涵，非常适合作为礼物送给女朋友。您可以根据女朋友的喜好和预算选择最合适的一款。'),\n",
       "  HumanMessage(content='第二款好像不错，你详细介绍介绍'),\n",
       "  AIMessage(content='这款足银999碎冰冰三面纯银手镯的特点和信息如下：\\n\\n1. 材质：该手镯采用足银999（即银的纯度为99.9%）材质制作，保证了手镯的纯净度和质量。\\n\\n2. 设计：手镯的设计灵感来源于碎冰冰，三面纯银的设计使得手镯具有独特的立体感和美观度。\\n\\n3. 实心闭口：这款手镯为实心闭口结构，相较于开口手镯，更加稳固且不易变形。\\n\\n4. 圈口尺寸：提供多种圈口尺寸供消费者选择，包括52圈口、54圈口、56圈口、58圈口和60圈口，以满足不同消费者的需求。\\n\\n5. 重量：根据不同圈口尺寸，手镯的重量在19.0克至24.0克之间。\\n\\n6. 价格：该手镯的价格根据圈口尺寸和重量不同而有所差异，价格范围在25900元至26300元之间。\\n\\n7. 库存：目前该手镯的库存数量为167件，不同圈口尺寸的库存量也有所不同。\\n\\n8. 配送方式：该手镯支持快递配送，具体配送方式和费用请参考购买页面。\\n\\n9. 销售情况：该手镯目前暂无销售记录，新品上架。\\n\\n10. 创建和更新时间：该手镯的商品信息创建时间为2024-06-27 21:28:59，更新时间也为2024-06-27 21:28:59。\\n\\n11. 图片展示：手镯的主图和滑块图展示了产品的外观和细节，消费者可以通过图片直观地了解手镯的特点。\\n\\n总的来说，这款足银999碎冰冰三面纯银手镯具有高纯度、美观独特的设计以及多种圈口尺寸供选择，是一款适合送女朋友或作为其他场合礼物的纯银手镯。')],\n",
       " 'answer': '这款足银999碎冰冰三面纯银手镯的特点和信息如下：\\n\\n1. 材质：该手镯采用足银999（即银的纯度为99.9%）材质制作，保证了手镯的纯净度和质量。\\n\\n2. 设计：手镯的设计灵感来源于碎冰冰，三面纯银的设计使得手镯具有独特的立体感和美观度。\\n\\n3. 实心闭口：这款手镯为实心闭口结构，相较于开口手镯，更加稳固且不易变形。\\n\\n4. 圈口尺寸：提供多种圈口尺寸供消费者选择，包括52圈口、54圈口、56圈口、58圈口和60圈口，以满足不同消费者的需求。\\n\\n5. 重量：根据不同圈口尺寸，手镯的重量在19.0克至24.0克之间。\\n\\n6. 价格：该手镯的价格根据圈口尺寸和重量不同而有所差异，价格范围在25900元至26300元之间。\\n\\n7. 库存：目前该手镯的库存数量为167件，不同圈口尺寸的库存量也有所不同。\\n\\n8. 配送方式：该手镯支持快递配送，具体配送方式和费用请参考购买页面。\\n\\n9. 销售情况：该手镯目前暂无销售记录，新品上架。\\n\\n10. 创建和更新时间：该手镯的商品信息创建时间为2024-06-27 21:28:59，更新时间也为2024-06-27 21:28:59。\\n\\n11. 图片展示：手镯的主图和滑块图展示了产品的外观和细节，消费者可以通过图片直观地了解手镯的特点。\\n\\n总的来说，这款足银999碎冰冰三面纯银手镯具有高纯度、美观独特的设计以及多种圈口尺寸供选择，是一款适合送女朋友或作为其他场合礼物的纯银手镯。'}"
      ]
     },
     "execution_count": 5,
     "metadata": {},
     "output_type": "execute_result"
    }
   ],
   "source": [
    "result"
   ]
  },
  {
   "cell_type": "markdown",
   "metadata": {},
   "source": [
    "### 1.5官方实现多轮对话"
   ]
  },
  {
   "cell_type": "code",
   "execution_count": null,
   "metadata": {},
   "outputs": [],
   "source": [
    "from langchain_community.chat_message_histories import SQLChatMessageHistory\n",
    "\n",
    "\n",
    "def get_session_history(session_id):\n",
    "    return SQLChatMessageHistory(session_id, \"sqlite:///memory.db\")\n",
    "    \n",
    "from langchain_community.chat_models import ChatZhipuAI\n",
    "from langchain_core.messages import AIMessage, HumanMessage, SystemMessage\n",
    "import os\n",
    "\n",
    "from langchain_community.chat_models import ChatZhipuAI\n",
    "ZHIPUAI_API_KEY = os.environ[\"ZHIPUAI_API_KEY\"]\n",
    "llm = ChatZhipuAI(\n",
    "    model=\"glm-4\",\n",
    "    temperature=0.5,\n",
    ")\n",
    "llm.invoke(\"请你自我介绍一下自己！\")\n"
   ]
  }
 ],
 "metadata": {
  "kernelspec": {
   "display_name": "Python 3",
   "language": "python",
   "name": "python3"
  },
  "language_info": {
   "codemirror_mode": {
    "name": "ipython",
    "version": 3
   },
   "file_extension": ".py",
   "mimetype": "text/x-python",
   "name": "python",
   "nbconvert_exporter": "python",
   "pygments_lexer": "ipython3",
   "version": "3.9.0"
  }
 },
 "nbformat": 4,
 "nbformat_minor": 0
}
